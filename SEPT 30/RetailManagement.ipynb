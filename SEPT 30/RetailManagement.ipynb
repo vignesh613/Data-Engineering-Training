{
  "nbformat": 4,
  "nbformat_minor": 0,
  "metadata": {
    "colab": {
      "provenance": []
    },
    "kernelspec": {
      "name": "python3",
      "display_name": "Python 3"
    },
    "language_info": {
      "name": "python"
    }
  },
  "cells": [
    {
      "cell_type": "code",
      "execution_count": 2,
      "metadata": {
        "id": "YlfXQNSJFWF8",
        "colab": {
          "base_uri": "https://localhost:8080/"
        },
        "outputId": "892bf236-c18c-4ee7-f6d2-e77b7dd28c05"
      },
      "outputs": [
        {
          "output_type": "stream",
          "name": "stdout",
          "text": [
            "Requirement already satisfied: pyspark in /usr/local/lib/python3.12/dist-packages (3.5.1)\n",
            "Requirement already satisfied: py4j==0.10.9.7 in /usr/local/lib/python3.12/dist-packages (from pyspark) (0.10.9.7)\n"
          ]
        }
      ],
      "source": [
        "!pip install pyspark\n",
        "\n",
        "from pyspark.sql import SparkSession\n",
        "from pyspark.sql.functions import col, avg, sum as _sum, count, desc\n",
        "import pandas as pd\n",
        "import matplotlib.pyplot as plt\n",
        "\n",
        "spark = SparkSession.builder.appName(\"Retail-Capstone\").getOrCreate()\n",
        "sc = spark.sparkContext"
      ]
    },
    {
      "cell_type": "code",
      "source": [
        "customers_data = [\n",
        "    (1, \"Rahul Sharma\", \"Bangalore\", 28),\n",
        "    (2, \"Priya Singh\", \"Delhi\", 32),\n",
        "    (3, \"Aman Kumar\", \"Hyderabad\", 25),\n",
        "    (4, \"Sneha Reddy\", \"Chennai\", 35),\n",
        "    (5, \"Arjun Mehta\", \"Mumbai\", 30),\n",
        "    (6, \"Divya Nair\", \"Delhi\", 29)\n",
        "]\n",
        "customers_cols = [\"customer_id\", \"name\", \"city\", \"age\"]\n",
        "customers_df = spark.createDataFrame(customers_data, customers_cols)\n",
        "\n",
        "products_data = [\n",
        "    (101, \"Laptop\", \"Electronics\", 55000),\n",
        "    (102, \"Mobile\", \"Electronics\", 25000),\n",
        "    (103, \"Headphones\", \"Electronics\", 3000),\n",
        "    (104, \"Chair\", \"Furniture\", 5000),\n",
        "    (105, \"Book\", \"Stationery\", 700),\n",
        "    (106, \"Shoes\", \"Fashion\", 2500)\n",
        "]\n",
        "products_cols = [\"product_id\", \"product_name\", \"category\", \"price\"]\n",
        "products_df = spark.createDataFrame(products_data, products_cols)\n",
        "\n",
        "orders_data = [\n",
        "    (1001, 1, 101, 1, \"2024-01-10\"),\n",
        "    (1002, 2, 102, 2, \"2024-01-12\"),\n",
        "    (1003, 1, 103, 3, \"2024-02-05\"),\n",
        "    (1004, 3, 104, 1, \"2024-02-08\"),\n",
        "    (1005, 5, 105, 5, \"2024-03-01\"),\n",
        "    (1006, 6, 106, 2, \"2024-03-15\"),\n",
        "    (1007, 7, 101, 1, \"2024-03-20\")  # invalid customer\n",
        "]\n",
        "orders_cols = [\"order_id\", \"customer_id\", \"product_id\", \"quantity\", \"order_date\"]\n",
        "orders_df = spark.createDataFrame(orders_data, orders_cols)"
      ],
      "metadata": {
        "id": "qLcdznc5WS0t"
      },
      "execution_count": 4,
      "outputs": []
    },
    {
      "cell_type": "code",
      "source": [
        "nums = sc.parallelize([10, 20, 30, 40, 50])\n",
        "print(\"Sum:\", nums.reduce(lambda x,y: x+y))\n",
        "print(\"Max:\", nums.max())\n",
        "print(\"Min:\", nums.min())\n",
        "print(\"Avg:\", nums.mean())"
      ],
      "metadata": {
        "colab": {
          "base_uri": "https://localhost:8080/"
        },
        "id": "WZvfPqfnWkYX",
        "outputId": "7ecffb98-2488-4ef1-f988-36618a896405"
      },
      "execution_count": 6,
      "outputs": [
        {
          "output_type": "stream",
          "name": "stdout",
          "text": [
            "Sum: 150\n",
            "Max: 50\n",
            "Min: 10\n",
            "Avg: 30.0\n"
          ]
        }
      ]
    },
    {
      "cell_type": "code",
      "source": [
        "sentences = sc.parallelize([\"Hello world\", \"Hello Spark\", \"Spark with Python\"])\n",
        "words = sentences.flatMap(lambda s: s.split(\" \"))\n",
        "word_count = words.map(lambda w: (w,1)).reduceByKey(lambda a,b:a+b)\n",
        "print(\"Word Count:\", word_count.collect())"
      ],
      "metadata": {
        "colab": {
          "base_uri": "https://localhost:8080/"
        },
        "id": "x7cTXGwZWqKY",
        "outputId": "a18e0433-e4b7-4b03-e2ce-2bb8e548fb26"
      },
      "execution_count": 8,
      "outputs": [
        {
          "output_type": "stream",
          "name": "stdout",
          "text": [
            "Word Count: [('world', 1), ('with', 1), ('Python', 1), ('Hello', 2), ('Spark', 2)]\n"
          ]
        }
      ]
    },
    {
      "cell_type": "code",
      "source": [
        "customers_df.select(\"name\",\"city\").show()"
      ],
      "metadata": {
        "colab": {
          "base_uri": "https://localhost:8080/"
        },
        "id": "-3fKhb9VWt6E",
        "outputId": "19367a17-23ef-44fa-f614-88b0df8f8b6d"
      },
      "execution_count": 10,
      "outputs": [
        {
          "output_type": "stream",
          "name": "stdout",
          "text": [
            "+------------+---------+\n",
            "|        name|     city|\n",
            "+------------+---------+\n",
            "|Rahul Sharma|Bangalore|\n",
            "| Priya Singh|    Delhi|\n",
            "|  Aman Kumar|Hyderabad|\n",
            "| Sneha Reddy|  Chennai|\n",
            "| Arjun Mehta|   Mumbai|\n",
            "|  Divya Nair|    Delhi|\n",
            "+------------+---------+\n",
            "\n"
          ]
        }
      ]
    },
    {
      "cell_type": "code",
      "source": [
        "customers_df.filter(col(\"age\")>30).show()"
      ],
      "metadata": {
        "colab": {
          "base_uri": "https://localhost:8080/"
        },
        "id": "WwWQnS0mWxsr",
        "outputId": "78c434ae-d399-43e1-dff1-a00e14c6b3dd"
      },
      "execution_count": 12,
      "outputs": [
        {
          "output_type": "stream",
          "name": "stdout",
          "text": [
            "+-----------+-----------+-------+---+\n",
            "|customer_id|       name|   city|age|\n",
            "+-----------+-----------+-------+---+\n",
            "|          2|Priya Singh|  Delhi| 32|\n",
            "|          4|Sneha Reddy|Chennai| 35|\n",
            "+-----------+-----------+-------+---+\n",
            "\n"
          ]
        }
      ]
    },
    {
      "cell_type": "code",
      "source": [
        "products_df.orderBy(col(\"price\").desc()).limit(3).show()"
      ],
      "metadata": {
        "colab": {
          "base_uri": "https://localhost:8080/"
        },
        "id": "cSUK-6XrW1G9",
        "outputId": "a90de5aa-970f-460d-f10b-5cbd38cd26f3"
      },
      "execution_count": 14,
      "outputs": [
        {
          "output_type": "stream",
          "name": "stdout",
          "text": [
            "+----------+------------+-----------+-----+\n",
            "|product_id|product_name|   category|price|\n",
            "+----------+------------+-----------+-----+\n",
            "|       101|      Laptop|Electronics|55000|\n",
            "|       102|      Mobile|Electronics|25000|\n",
            "|       104|       Chair|  Furniture| 5000|\n",
            "+----------+------------+-----------+-----+\n",
            "\n"
          ]
        }
      ]
    },
    {
      "cell_type": "code",
      "source": [
        "customers_df.groupBy(\"city\").agg(avg(\"age\").alias(\"avg_age\")).show()"
      ],
      "metadata": {
        "colab": {
          "base_uri": "https://localhost:8080/"
        },
        "id": "kDUw0j47YSEZ",
        "outputId": "174e90a4-608c-4660-b143-f8049dba42ef"
      },
      "execution_count": 15,
      "outputs": [
        {
          "output_type": "stream",
          "name": "stdout",
          "text": [
            "+---------+-------+\n",
            "|     city|avg_age|\n",
            "+---------+-------+\n",
            "|Bangalore|   28.0|\n",
            "|    Delhi|   30.5|\n",
            "|Hyderabad|   25.0|\n",
            "|  Chennai|   35.0|\n",
            "|   Mumbai|   30.0|\n",
            "+---------+-------+\n",
            "\n"
          ]
        }
      ]
    },
    {
      "cell_type": "code",
      "source": [
        "orders_df.join(products_df,\"product_id\")\\\n",
        "    .groupBy(\"product_id\",\"product_name\")\\\n",
        "    .agg((_sum(col(\"quantity\")*col(\"price\"))).alias(\"total_revenue\")).show()"
      ],
      "metadata": {
        "colab": {
          "base_uri": "https://localhost:8080/"
        },
        "id": "qO1wNDpnYVVt",
        "outputId": "11ac7463-d0f0-4ebc-ca55-a1db1912f6c2"
      },
      "execution_count": 16,
      "outputs": [
        {
          "output_type": "stream",
          "name": "stdout",
          "text": [
            "+----------+------------+-------------+\n",
            "|product_id|product_name|total_revenue|\n",
            "+----------+------------+-------------+\n",
            "|       101|      Laptop|       110000|\n",
            "|       102|      Mobile|        50000|\n",
            "|       103|  Headphones|         9000|\n",
            "|       104|       Chair|         5000|\n",
            "|       105|        Book|         3500|\n",
            "|       106|       Shoes|         5000|\n",
            "+----------+------------+-------------+\n",
            "\n"
          ]
        }
      ]
    },
    {
      "cell_type": "code",
      "source": [
        "orders_df.groupBy(\"product_id\").agg(_sum(\"quantity\").alias(\"total_qty\"))\\\n",
        "    .orderBy(desc(\"total_qty\")).limit(1).show()\n"
      ],
      "metadata": {
        "colab": {
          "base_uri": "https://localhost:8080/"
        },
        "id": "yEWGtodsYZSk",
        "outputId": "cd91203e-c318-4b5f-bd97-740d1d827a35"
      },
      "execution_count": 17,
      "outputs": [
        {
          "output_type": "stream",
          "name": "stdout",
          "text": [
            "+----------+---------+\n",
            "|product_id|total_qty|\n",
            "+----------+---------+\n",
            "|       105|        5|\n",
            "+----------+---------+\n",
            "\n"
          ]
        }
      ]
    },
    {
      "cell_type": "code",
      "source": [
        "orders_df.join(customers_df,\"customer_id\",\"inner\").show()"
      ],
      "metadata": {
        "colab": {
          "base_uri": "https://localhost:8080/"
        },
        "id": "JAB4Ak7rYeLj",
        "outputId": "786b3095-8962-49b5-c060-ea3d87d7e32f"
      },
      "execution_count": 18,
      "outputs": [
        {
          "output_type": "stream",
          "name": "stdout",
          "text": [
            "+-----------+--------+----------+--------+----------+------------+---------+---+\n",
            "|customer_id|order_id|product_id|quantity|order_date|        name|     city|age|\n",
            "+-----------+--------+----------+--------+----------+------------+---------+---+\n",
            "|          1|    1001|       101|       1|2024-01-10|Rahul Sharma|Bangalore| 28|\n",
            "|          1|    1003|       103|       3|2024-02-05|Rahul Sharma|Bangalore| 28|\n",
            "|          2|    1002|       102|       2|2024-01-12| Priya Singh|    Delhi| 32|\n",
            "|          3|    1004|       104|       1|2024-02-08|  Aman Kumar|Hyderabad| 25|\n",
            "|          5|    1005|       105|       5|2024-03-01| Arjun Mehta|   Mumbai| 30|\n",
            "|          6|    1006|       106|       2|2024-03-15|  Divya Nair|    Delhi| 29|\n",
            "+-----------+--------+----------+--------+----------+------------+---------+---+\n",
            "\n"
          ]
        }
      ]
    },
    {
      "cell_type": "code",
      "source": [
        "orders_df.join(products_df,\"product_id\").select(\"order_id\",\"product_name\",\"category\").show()"
      ],
      "metadata": {
        "colab": {
          "base_uri": "https://localhost:8080/"
        },
        "id": "VPOI_eZcYvNK",
        "outputId": "5ce499be-13ee-4951-ef00-c286a4aa66a5"
      },
      "execution_count": 19,
      "outputs": [
        {
          "output_type": "stream",
          "name": "stdout",
          "text": [
            "+--------+------------+-----------+\n",
            "|order_id|product_name|   category|\n",
            "+--------+------------+-----------+\n",
            "|    1001|      Laptop|Electronics|\n",
            "|    1007|      Laptop|Electronics|\n",
            "|    1002|      Mobile|Electronics|\n",
            "|    1003|  Headphones|Electronics|\n",
            "|    1004|       Chair|  Furniture|\n",
            "|    1005|        Book| Stationery|\n",
            "|    1006|       Shoes|    Fashion|\n",
            "+--------+------------+-----------+\n",
            "\n"
          ]
        }
      ]
    },
    {
      "cell_type": "code",
      "source": [
        "customers_df.join(orders_df,\"customer_id\",\"left_anti\").show()"
      ],
      "metadata": {
        "colab": {
          "base_uri": "https://localhost:8080/"
        },
        "id": "KDDdBTXIYzUz",
        "outputId": "c8f5bad6-ddc9-4619-8fd7-977de40b7ade"
      },
      "execution_count": 20,
      "outputs": [
        {
          "output_type": "stream",
          "name": "stdout",
          "text": [
            "+-----------+-----------+-------+---+\n",
            "|customer_id|       name|   city|age|\n",
            "+-----------+-----------+-------+---+\n",
            "|          4|Sneha Reddy|Chennai| 35|\n",
            "+-----------+-----------+-------+---+\n",
            "\n"
          ]
        }
      ]
    },
    {
      "cell_type": "code",
      "source": [
        "products_df.join(orders_df,\"product_id\",\"left_anti\").show()"
      ],
      "metadata": {
        "colab": {
          "base_uri": "https://localhost:8080/"
        },
        "id": "jGzLoL2KY2Iq",
        "outputId": "89c8b62b-5a25-4dd1-e433-2c8e9602d1b6"
      },
      "execution_count": 21,
      "outputs": [
        {
          "output_type": "stream",
          "name": "stdout",
          "text": [
            "+----------+------------+--------+-----+\n",
            "|product_id|product_name|category|price|\n",
            "+----------+------------+--------+-----+\n",
            "+----------+------------+--------+-----+\n",
            "\n"
          ]
        }
      ]
    },
    {
      "cell_type": "code",
      "source": [
        "customers_df.createOrReplaceTempView(\"customers\")\n",
        "products_df.createOrReplaceTempView(\"products\")\n",
        "orders_df.createOrReplaceTempView(\"orders\")"
      ],
      "metadata": {
        "id": "wYB9BDb_Y8oS"
      },
      "execution_count": 22,
      "outputs": []
    },
    {
      "cell_type": "code",
      "source": [
        "spark.sql(\"\"\"\n",
        "SELECT c.city, SUM(o.quantity*p.price) as revenue\n",
        "FROM orders o JOIN customers c ON o.customer_id=c.customer_id\n",
        "JOIN products p ON o.product_id=p.product_id\n",
        "GROUP BY c.city ORDER BY revenue DESC LIMIT 2\n",
        "\"\"\").show()"
      ],
      "metadata": {
        "colab": {
          "base_uri": "https://localhost:8080/"
        },
        "id": "a_gTGkv9Y_1a",
        "outputId": "7aa83699-8d3c-4533-cf70-5777a6798678"
      },
      "execution_count": 23,
      "outputs": [
        {
          "output_type": "stream",
          "name": "stdout",
          "text": [
            "+---------+-------+\n",
            "|     city|revenue|\n",
            "+---------+-------+\n",
            "|Bangalore|  64000|\n",
            "|    Delhi|  55000|\n",
            "+---------+-------+\n",
            "\n"
          ]
        }
      ]
    },
    {
      "cell_type": "code",
      "source": [
        "spark.sql(\"\"\"\n",
        "SELECT c.name, SUM(o.quantity*p.price) as total_spent\n",
        "FROM orders o JOIN customers c ON o.customer_id=c.customer_id\n",
        "JOIN products p ON o.product_id=p.product_id\n",
        "GROUP BY c.name HAVING total_spent>50000\n",
        "\"\"\").show()"
      ],
      "metadata": {
        "colab": {
          "base_uri": "https://localhost:8080/"
        },
        "id": "imq4h8ZCZCAZ",
        "outputId": "99cdc12a-6bb4-48d8-c753-01630c7ab09d"
      },
      "execution_count": 24,
      "outputs": [
        {
          "output_type": "stream",
          "name": "stdout",
          "text": [
            "+------------+-----------+\n",
            "|        name|total_spent|\n",
            "+------------+-----------+\n",
            "|Rahul Sharma|      64000|\n",
            "+------------+-----------+\n",
            "\n"
          ]
        }
      ]
    },
    {
      "cell_type": "code",
      "source": [
        "spark.sql(\"\"\"\n",
        "SELECT p.category, SUM(o.quantity*p.price) as revenue\n",
        "FROM orders o JOIN products p ON o.product_id=p.product_id\n",
        "GROUP BY p.category ORDER BY revenue DESC LIMIT 1\n",
        "\"\"\").show()"
      ],
      "metadata": {
        "colab": {
          "base_uri": "https://localhost:8080/"
        },
        "id": "gZ5SptQcZG2M",
        "outputId": "9850845b-3b80-4548-a268-851215eaf0fe"
      },
      "execution_count": 25,
      "outputs": [
        {
          "output_type": "stream",
          "name": "stdout",
          "text": [
            "+-----------+-------+\n",
            "|   category|revenue|\n",
            "+-----------+-------+\n",
            "|Electronics| 169000|\n",
            "+-----------+-------+\n",
            "\n"
          ]
        }
      ]
    },
    {
      "cell_type": "code",
      "source": [
        "orders_df.write.mode(\"overwrite\").csv(\"orders_csv\", header=True)\n",
        "orders_csv = spark.read.csv(\"orders_csv\", header=True, inferSchema=True)\n",
        "orders_csv.show()"
      ],
      "metadata": {
        "colab": {
          "base_uri": "https://localhost:8080/"
        },
        "id": "5QhHnrT8ZLki",
        "outputId": "8ad3b562-f47c-4438-e785-0df47a3fe24a"
      },
      "execution_count": 26,
      "outputs": [
        {
          "output_type": "stream",
          "name": "stdout",
          "text": [
            "+--------+-----------+----------+--------+----------+\n",
            "|order_id|customer_id|product_id|quantity|order_date|\n",
            "+--------+-----------+----------+--------+----------+\n",
            "|    1004|          3|       104|       1|2024-02-08|\n",
            "|    1005|          5|       105|       5|2024-03-01|\n",
            "|    1006|          6|       106|       2|2024-03-15|\n",
            "|    1007|          7|       101|       1|2024-03-20|\n",
            "|    1001|          1|       101|       1|2024-01-10|\n",
            "|    1002|          2|       102|       2|2024-01-12|\n",
            "|    1003|          1|       103|       3|2024-02-05|\n",
            "+--------+-----------+----------+--------+----------+\n",
            "\n"
          ]
        }
      ]
    },
    {
      "cell_type": "code",
      "source": [
        "products_df.write.mode(\"overwrite\").json(\"products_json\")\n",
        "products_json = spark.read.json(\"products_json\")\n",
        "products_json.show()"
      ],
      "metadata": {
        "colab": {
          "base_uri": "https://localhost:8080/"
        },
        "id": "FIe73L7sZQXB",
        "outputId": "191ec88e-9c32-4e2b-d80b-15345b272d51"
      },
      "execution_count": 27,
      "outputs": [
        {
          "output_type": "stream",
          "name": "stdout",
          "text": [
            "+-----------+-----+----------+------------+\n",
            "|   category|price|product_id|product_name|\n",
            "+-----------+-----+----------+------------+\n",
            "|Electronics|55000|       101|      Laptop|\n",
            "|Electronics|25000|       102|      Mobile|\n",
            "|Electronics| 3000|       103|  Headphones|\n",
            "|  Furniture| 5000|       104|       Chair|\n",
            "| Stationery|  700|       105|        Book|\n",
            "|    Fashion| 2500|       106|       Shoes|\n",
            "+-----------+-----+----------+------------+\n",
            "\n"
          ]
        }
      ]
    },
    {
      "cell_type": "code",
      "source": [
        "rev_cat = orders_df.join(products_df,\"product_id\")\\\n",
        "    .groupBy(\"category\")\\\n",
        "    .agg((_sum(col(\"quantity\")*col(\"price\"))).alias(\"revenue\"))\\\n",
        "    .toPandas()\n",
        "rev_cat.plot(x=\"category\", y=\"revenue\", kind=\"bar\", legend=False, title=\"Revenue by Category\")\n",
        "plt.show()"
      ],
      "metadata": {
        "colab": {
          "base_uri": "https://localhost:8080/",
          "height": 533
        },
        "id": "dPv6jQrqZa15",
        "outputId": "77dc06fd-a1af-43d7-8b92-d992cba44a19"
      },
      "execution_count": 29,
      "outputs": [
        {
          "output_type": "display_data",
          "data": {
            "text/plain": [
              "<Figure size 640x480 with 1 Axes>"
            ],
            "image/png": "[encoded data removed]"
          },
          "metadata": {}
        }
      ]
    },
    {
      "cell_type": "code",
      "source": [
        "orders_month = orders_df.withColumn(\"month\", col(\"order_date\").substr(6,2))\\\n",
        "    .groupBy(\"month\").agg(count(\"order_id\").alias(\"num_orders\"))\\\n",
        "    .orderBy(\"month\").toPandas()\n",
        "orders_month.plot(x=\"month\", y=\"num_orders\", kind=\"line\", marker=\"o\", title=\"Orders per Month\")\n",
        "plt.show()"
      ],
      "metadata": {
        "colab": {
          "base_uri": "https://localhost:8080/",
          "height": 472
        },
        "id": "5m9YTiFRZfxB",
        "outputId": "dfb25ba7-522d-4e43-f842-03adda6aa3c8"
      },
      "execution_count": 30,
      "outputs": [
        {
          "output_type": "display_data",
          "data": {
            "text/plain": [
              "<Figure size 640x480 with 1 Axes>"
            ],
            "image/png": "[encoded data removed]"
          },
          "metadata": {}
        }
      ]
    },
    {
      "cell_type": "code",
      "source": [
        "rev_qty = orders_df.join(products_df,\"product_id\")\\\n",
        "    .withColumn(\"revenue\", col(\"quantity\")*col(\"price\"))\\\n",
        "    .select(\"quantity\",\"revenue\").toPandas()\n",
        "rev_qty.plot.scatter(x=\"quantity\", y=\"revenue\", title=\"Revenue vs Quantity\")\n",
        "plt.show()"
      ],
      "metadata": {
        "colab": {
          "base_uri": "https://localhost:8080/",
          "height": 472
        },
        "id": "kSidZlrpZkcw",
        "outputId": "85722698-f8da-4d77-d2c0-6e2f398c6dbf"
      },
      "execution_count": 31,
      "outputs": [
        {
          "output_type": "display_data",
          "data": {
            "text/plain": [
              "<Figure size 640x480 with 1 Axes>"
            ],
            "image/png": "[encoded data removed]"
          },
          "metadata": {}
        }
      ]
    }
  ]
}
