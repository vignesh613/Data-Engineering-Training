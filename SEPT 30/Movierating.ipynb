{
  "nbformat": 4,
  "nbformat_minor": 0,
  "metadata": {
    "colab": {
      "provenance": []
    },
    "kernelspec": {
      "name": "python3",
      "display_name": "Python 3"
    },
    "language_info": {
      "name": "python"
    }
  },
  "cells": [
    {
      "cell_type": "code",
      "execution_count": 1,
      "metadata": {
        "colab": {
          "base_uri": "https://localhost:8080/"
        },
        "id": "6Ul_boF90zEY",
        "outputId": "b0d85d0a-9bbc-4c8f-ab53-869077cb3d09"
      },
      "outputs": [
        {
          "output_type": "stream",
          "name": "stdout",
          "text": [
            "DataFrames created successfully!\n",
            "+-------+-----+---+---------+\n",
            "|user_id| name|age|     city|\n",
            "+-------+-----+---+---------+\n",
            "|      1|Rahul| 25|Bangalore|\n",
            "|      2|Priya| 30|    Delhi|\n",
            "|      3| Aman| 22|Hyderabad|\n",
            "|      4|Sneha| 28|  Chennai|\n",
            "|      5|Arjun| 35|   Mumbai|\n",
            "+-------+-----+---+---------+\n",
            "\n",
            "+--------+------------+------+----+\n",
            "|movie_id|       title| genre|year|\n",
            "+--------+------------+------+----+\n",
            "|     101|   Inception|Sci-Fi|2010|\n",
            "|     102|    Avengers|Action|2012|\n",
            "|     103|    3 Idiots|Comedy|2009|\n",
            "|     104|      Dangal| Drama|2016|\n",
            "|     105|Interstellar|Sci-Fi|2014|\n",
            "+--------+------------+------+----+\n",
            "\n",
            "+-------+--------+------+\n",
            "|user_id|movie_id|rating|\n",
            "+-------+--------+------+\n",
            "|      1|     101|     5|\n",
            "|      2|     101|     4|\n",
            "|      1|     102|     3|\n",
            "|      3|     103|     4|\n",
            "|      4|     104|     5|\n",
            "|      2|     103|     5|\n",
            "|      5|     105|     4|\n",
            "|      6|     101|     5|\n",
            "+-------+--------+------+\n",
            "\n"
          ]
        }
      ],
      "source": [
        "\n",
        "from pyspark.sql import SparkSession\n",
        "from pyspark.sql.functions import col, avg, desc, count, rank\n",
        "from pyspark.sql.window import Window\n",
        "import matplotlib.pyplot as plt\n",
        "import seaborn as sns\n",
        "import pandas as pd\n",
        "\n",
        "spark = SparkSession.builder.appName(\"Movie-Capstone\").getOrCreate()\n",
        "\n",
        "users_data = [\n",
        "    (1, \"Rahul\", 25, \"Bangalore\"),\n",
        "    (2, \"Priya\", 30, \"Delhi\"),\n",
        "    (3, \"Aman\", 22, \"Hyderabad\"),\n",
        "    (4, \"Sneha\", 28, \"Chennai\"),\n",
        "    (5, \"Arjun\", 35, \"Mumbai\")\n",
        "]\n",
        "users_cols = [\"user_id\", \"name\", \"age\", \"city\"]\n",
        "users_df = spark.createDataFrame(users_data, users_cols)\n",
        "\n",
        "# Movies DataFrame\n",
        "movies_data = [\n",
        "    (101, \"Inception\", \"Sci-Fi\", 2010),\n",
        "    (102, \"Avengers\", \"Action\", 2012),\n",
        "    (103, \"3 Idiots\", \"Comedy\", 2009),\n",
        "    (104, \"Dangal\", \"Drama\", 2016),\n",
        "    (105, \"Interstellar\", \"Sci-Fi\", 2014)\n",
        "]\n",
        "movies_cols = [\"movie_id\", \"title\", \"genre\", \"year\"]\n",
        "movies_df = spark.createDataFrame(movies_data, movies_cols)\n",
        "\n",
        "# Ratings DataFrame\n",
        "ratings_data = [\n",
        "    (1, 101, 5),\n",
        "    (2, 101, 4),\n",
        "    (1, 102, 3),\n",
        "    (3, 103, 4),\n",
        "    (4, 104, 5),\n",
        "    (2, 103, 5),\n",
        "    (5, 105, 4),\n",
        "    (6, 101, 5)\n",
        "]\n",
        "ratings_cols = [\"user_id\", \"movie_id\", \"rating\"]\n",
        "ratings_df = spark.createDataFrame(ratings_data, ratings_cols)\n",
        "\n",
        "print(\"DataFrames created successfully!\")\n",
        "users_df.show()\n",
        "movies_df.show()\n",
        "ratings_df.show()"
      ]
    },
    {
      "cell_type": "code",
      "source": [
        "print(\"Users older than 28:\")\n",
        "users_df.filter(col(\"age\") > 28).show()\n",
        "\n",
        "print(\"Distinct movie genres:\")\n",
        "movies_df.select(\"genre\").distinct().show()\n",
        "\n",
        "print(\"Movies released after 2010:\")\n",
        "movies_df.filter(col(\"year\") > 2010).show()"
      ],
      "metadata": {
        "colab": {
          "base_uri": "https://localhost:8080/"
        },
        "id": "hiwJTEUY3Kwx",
        "outputId": "25fdeb32-168a-4199-808b-cc3a8be0d042"
      },
      "execution_count": 2,
      "outputs": [
        {
          "output_type": "stream",
          "name": "stdout",
          "text": [
            "Users older than 28:\n",
            "+-------+-----+---+------+\n",
            "|user_id| name|age|  city|\n",
            "+-------+-----+---+------+\n",
            "|      2|Priya| 30| Delhi|\n",
            "|      5|Arjun| 35|Mumbai|\n",
            "+-------+-----+---+------+\n",
            "\n",
            "Distinct movie genres:\n",
            "+------+\n",
            "| genre|\n",
            "+------+\n",
            "|Action|\n",
            "|Sci-Fi|\n",
            "| Drama|\n",
            "|Comedy|\n",
            "+------+\n",
            "\n",
            "Movies released after 2010:\n",
            "+--------+------------+------+----+\n",
            "|movie_id|       title| genre|year|\n",
            "+--------+------------+------+----+\n",
            "|     102|    Avengers|Action|2012|\n",
            "|     104|      Dangal| Drama|2016|\n",
            "|     105|Interstellar|Sci-Fi|2014|\n",
            "+--------+------------+------+----+\n",
            "\n"
          ]
        }
      ]
    },
    {
      "cell_type": "code",
      "source": [
        "print(\"Average age of users per city:\")\n",
        "users_df.groupBy(\"city\").agg(avg(\"age\").alias(\"avg_age\")).show()\n",
        "\n",
        "print(\"Average rating for each movie:\")\n",
        "ratings_df.groupBy(\"movie_id\").agg(avg(\"rating\").alias(\"avg_rating\")).show()"
      ],
      "metadata": {
        "colab": {
          "base_uri": "https://localhost:8080/"
        },
        "id": "5qr5KJkz6Tab",
        "outputId": "6b8cb4c5-3241-4ba0-c7cd-3b03a4704da9"
      },
      "execution_count": 3,
      "outputs": [
        {
          "output_type": "stream",
          "name": "stdout",
          "text": [
            "Average age of users per city:\n",
            "+---------+-------+\n",
            "|     city|avg_age|\n",
            "+---------+-------+\n",
            "|Bangalore|   25.0|\n",
            "|    Delhi|   30.0|\n",
            "|  Chennai|   28.0|\n",
            "|   Mumbai|   35.0|\n",
            "|Hyderabad|   22.0|\n",
            "+---------+-------+\n",
            "\n",
            "Average rating for each movie:\n",
            "+--------+-----------------+\n",
            "|movie_id|       avg_rating|\n",
            "+--------+-----------------+\n",
            "|     103|              4.5|\n",
            "|     101|4.666666666666667|\n",
            "|     102|              3.0|\n",
            "|     104|              5.0|\n",
            "|     105|              4.0|\n",
            "+--------+-----------------+\n",
            "\n"
          ]
        }
      ]
    },
    {
      "cell_type": "code",
      "source": [
        "# First, calculate the average rating for each movie\n",
        "movie_avg_ratings = ratings_df.groupBy(\"movie_id\").agg(avg(\"rating\").alias(\"avg_rating\"))\n",
        "\n",
        "# Join with movies_df to get genre information\n",
        "movie_details_with_ratings = movies_df.join(movie_avg_ratings, \"movie_id\")\n",
        "\n",
        "# Use a window function to find the top-rated movie per genre\n",
        "window_spec = Window.partitionBy(\"genre\").orderBy(desc(\"avg_rating\"))\n",
        "highest_rated_movies = movie_details_with_ratings.withColumn(\"rank\", rank().over(window_spec)) \\\n",
        "    .filter(col(\"rank\") == 1).drop(\"rank\")\n",
        "\n",
        "print(\"Highest-rated movie in each genre:\")\n",
        "highest_rated_movies.show()"
      ],
      "metadata": {
        "colab": {
          "base_uri": "https://localhost:8080/"
        },
        "id": "O6MNLjCs6gbZ",
        "outputId": "0163edb2-c853-4648-8707-b3643d7cde4f"
      },
      "execution_count": 4,
      "outputs": [
        {
          "output_type": "stream",
          "name": "stdout",
          "text": [
            "Highest-rated movie in each genre:\n",
            "+--------+---------+------+----+-----------------+\n",
            "|movie_id|    title| genre|year|       avg_rating|\n",
            "+--------+---------+------+----+-----------------+\n",
            "|     102| Avengers|Action|2012|              3.0|\n",
            "|     103| 3 Idiots|Comedy|2009|              4.5|\n",
            "|     104|   Dangal| Drama|2016|              5.0|\n",
            "|     101|Inception|Sci-Fi|2010|4.666666666666667|\n",
            "+--------+---------+------+----+-----------------+\n",
            "\n"
          ]
        }
      ]
    },
    {
      "cell_type": "code",
      "source": [
        "print(\"Ratings with user names:\")\n",
        "ratings_df.join(users_df, \"user_id\", \"inner\").show()\n",
        "\n",
        "print(\"Ratings with movie titles:\")\n",
        "ratings_df.join(movies_df, \"movie_id\", \"inner\").show()\n",
        "\n",
        "print(\"Users who have not rated any movie:\")\n",
        "users_df.join(ratings_df, \"user_id\", \"left_anti\").show()\n",
        "\n",
        "print(\"Movies that have never been rated:\")\n",
        "movies_df.join(ratings_df, \"movie_id\", \"left_anti\").show()"
      ],
      "metadata": {
        "colab": {
          "base_uri": "https://localhost:8080/"
        },
        "id": "kyjx8Dcq7MAD",
        "outputId": "b670b19c-02bb-4c79-ddcd-dd67c289a0b4"
      },
      "execution_count": 5,
      "outputs": [
        {
          "output_type": "stream",
          "name": "stdout",
          "text": [
            "Ratings with user names:\n",
            "+-------+--------+------+-----+---+---------+\n",
            "|user_id|movie_id|rating| name|age|     city|\n",
            "+-------+--------+------+-----+---+---------+\n",
            "|      1|     101|     5|Rahul| 25|Bangalore|\n",
            "|      1|     102|     3|Rahul| 25|Bangalore|\n",
            "|      2|     101|     4|Priya| 30|    Delhi|\n",
            "|      2|     103|     5|Priya| 30|    Delhi|\n",
            "|      3|     103|     4| Aman| 22|Hyderabad|\n",
            "|      4|     104|     5|Sneha| 28|  Chennai|\n",
            "|      5|     105|     4|Arjun| 35|   Mumbai|\n",
            "+-------+--------+------+-----+---+---------+\n",
            "\n",
            "Ratings with movie titles:\n",
            "+--------+-------+------+------------+------+----+\n",
            "|movie_id|user_id|rating|       title| genre|year|\n",
            "+--------+-------+------+------------+------+----+\n",
            "|     101|      1|     5|   Inception|Sci-Fi|2010|\n",
            "|     101|      2|     4|   Inception|Sci-Fi|2010|\n",
            "|     101|      6|     5|   Inception|Sci-Fi|2010|\n",
            "|     102|      1|     3|    Avengers|Action|2012|\n",
            "|     103|      3|     4|    3 Idiots|Comedy|2009|\n",
            "|     103|      2|     5|    3 Idiots|Comedy|2009|\n",
            "|     104|      4|     5|      Dangal| Drama|2016|\n",
            "|     105|      5|     4|Interstellar|Sci-Fi|2014|\n",
            "+--------+-------+------+------------+------+----+\n",
            "\n",
            "Users who have not rated any movie:\n",
            "+-------+----+---+----+\n",
            "|user_id|name|age|city|\n",
            "+-------+----+---+----+\n",
            "+-------+----+---+----+\n",
            "\n",
            "Movies that have never been rated:\n",
            "+--------+-----+-----+----+\n",
            "|movie_id|title|genre|year|\n",
            "+--------+-----+-----+----+\n",
            "+--------+-----+-----+----+\n",
            "\n"
          ]
        }
      ]
    },
    {
      "cell_type": "code",
      "source": [
        "users_df.createOrReplaceTempView(\"users\")\n",
        "movies_df.createOrReplaceTempView(\"movies\")\n",
        "ratings_df.createOrReplaceTempView(\"ratings\")\n",
        "\n",
        "print(\"Temporary views 'users', 'movies', and 'ratings' created.\")"
      ],
      "metadata": {
        "colab": {
          "base_uri": "https://localhost:8080/"
        },
        "id": "v5oXccMq87Cf",
        "outputId": "de726677-a5e9-4090-b052-3b3b104c1d58"
      },
      "execution_count": 6,
      "outputs": [
        {
          "output_type": "stream",
          "name": "stdout",
          "text": [
            "Temporary views 'users', 'movies', and 'ratings' created.\n"
          ]
        }
      ]
    },
    {
      "cell_type": "code",
      "source": [
        "print(\"Top 2 cities by number of ratings:\")\n",
        "spark.sql(\"\"\"\n",
        "    SELECT u.city, COUNT(r.rating) as rating_count\n",
        "    FROM ratings r\n",
        "    JOIN users u ON r.user_id = u.user_id\n",
        "    GROUP BY u.city\n",
        "    ORDER BY rating_count DESC\n",
        "    LIMIT 2\n",
        "\"\"\").show()"
      ],
      "metadata": {
        "colab": {
          "base_uri": "https://localhost:8080/"
        },
        "id": "79dV-U3Q89zG",
        "outputId": "007600e8-23e7-4663-83d0-d626b3835d41"
      },
      "execution_count": 7,
      "outputs": [
        {
          "output_type": "stream",
          "name": "stdout",
          "text": [
            "Top 2 cities by number of ratings:\n",
            "+---------+------------+\n",
            "|     city|rating_count|\n",
            "+---------+------------+\n",
            "|Bangalore|           2|\n",
            "|    Delhi|           2|\n",
            "+---------+------------+\n",
            "\n"
          ]
        }
      ]
    },
    {
      "cell_type": "code",
      "source": [
        "print(\"Users who gave at least one 5-star rating:\")\n",
        "spark.sql(\"\"\"\n",
        "    SELECT DISTINCT u.name\n",
        "    FROM users u\n",
        "    JOIN ratings r ON u.user_id = r.user_id\n",
        "    WHERE r.rating = 5\n",
        "\"\"\").show()"
      ],
      "metadata": {
        "colab": {
          "base_uri": "https://localhost:8080/"
        },
        "id": "v39xMzMt8_v8",
        "outputId": "e4182179-1e82-46e8-a41e-60b33337d548"
      },
      "execution_count": 8,
      "outputs": [
        {
          "output_type": "stream",
          "name": "stdout",
          "text": [
            "Users who gave at least one 5-star rating:\n",
            "+-----+\n",
            "| name|\n",
            "+-----+\n",
            "|Sneha|\n",
            "|Priya|\n",
            "|Rahul|\n",
            "+-----+\n",
            "\n"
          ]
        }
      ]
    },
    {
      "cell_type": "code",
      "source": [
        "print(\"Most popular genre by number of ratings:\")\n",
        "spark.sql(\"\"\"\n",
        "    SELECT m.genre, COUNT(r.rating) as num_ratings\n",
        "    FROM ratings r\n",
        "    JOIN movies m ON r.movie_id = m.movie_id\n",
        "    GROUP BY m.genre\n",
        "    ORDER BY num_ratings DESC\n",
        "    LIMIT 1\n",
        "\"\"\").show()"
      ],
      "metadata": {
        "colab": {
          "base_uri": "https://localhost:8080/"
        },
        "id": "2rYEZDUX9CeN",
        "outputId": "4c113333-1f87-48e7-981e-6ba94edff03d"
      },
      "execution_count": 9,
      "outputs": [
        {
          "output_type": "stream",
          "name": "stdout",
          "text": [
            "Most popular genre by number of ratings:\n",
            "+------+-----------+\n",
            "| genre|num_ratings|\n",
            "+------+-----------+\n",
            "|Sci-Fi|          4|\n",
            "+------+-----------+\n",
            "\n"
          ]
        }
      ]
    },
    {
      "cell_type": "code",
      "source": [
        "# Save to CSV\n",
        "ratings_df.write.mode(\"overwrite\").option(\"header\", \"true\").csv(\"ratings_output.csv\")\n",
        "print(\"ratings_df saved to CSV.\")\n",
        "\n",
        "# Load from CSV\n",
        "loaded_ratings_df = spark.read.option(\"header\", \"true\").csv(\"ratings_output.csv\")\n",
        "print(\"Loaded ratings_df from CSV:\")\n",
        "loaded_ratings_df.show()"
      ],
      "metadata": {
        "colab": {
          "base_uri": "https://localhost:8080/"
        },
        "id": "tA4opCrSN0Pj",
        "outputId": "27678dd3-ebff-4b3c-c01f-5a02d2ee467b"
      },
      "execution_count": 10,
      "outputs": [
        {
          "output_type": "stream",
          "name": "stdout",
          "text": [
            "ratings_df saved to CSV.\n",
            "Loaded ratings_df from CSV:\n",
            "+-------+--------+------+\n",
            "|user_id|movie_id|rating|\n",
            "+-------+--------+------+\n",
            "|      1|     101|     5|\n",
            "|      2|     101|     4|\n",
            "|      1|     102|     3|\n",
            "|      3|     103|     4|\n",
            "|      4|     104|     5|\n",
            "|      2|     103|     5|\n",
            "|      5|     105|     4|\n",
            "|      6|     101|     5|\n",
            "+-------+--------+------+\n",
            "\n"
          ]
        }
      ]
    },
    {
      "cell_type": "code",
      "source": [
        "# Save to JSON\n",
        "movies_df.write.mode(\"overwrite\").json(\"movies_output.json\")\n",
        "print(\"movies_df saved to JSON.\")\n",
        "\n",
        "# Load from JSON\n",
        "loaded_movies_df = spark.read.json(\"movies_output.json\")\n",
        "print(\"Loaded movies_df from JSON:\")\n",
        "loaded_movies_df.show()"
      ],
      "metadata": {
        "colab": {
          "base_uri": "https://localhost:8080/"
        },
        "id": "2axbrTLCN2f_",
        "outputId": "4ed8f6f6-8aa0-4e9f-88a1-7ed91dffe63e"
      },
      "execution_count": 11,
      "outputs": [
        {
          "output_type": "stream",
          "name": "stdout",
          "text": [
            "movies_df saved to JSON.\n",
            "Loaded movies_df from JSON:\n",
            "+------+--------+------------+----+\n",
            "| genre|movie_id|       title|year|\n",
            "+------+--------+------------+----+\n",
            "|Comedy|     103|    3 Idiots|2009|\n",
            "| Drama|     104|      Dangal|2016|\n",
            "|Sci-Fi|     105|Interstellar|2014|\n",
            "|Sci-Fi|     101|   Inception|2010|\n",
            "|Action|     102|    Avengers|2012|\n",
            "+------+--------+------------+----+\n",
            "\n"
          ]
        }
      ]
    },
    {
      "cell_type": "code",
      "source": [
        "print(\"Converting users_df to a Pandas DataFrame:\")\n",
        "users_pandas_df = users_df.toPandas()\n",
        "print(users_pandas_df)\n",
        "print(f\"\\nType of new DataFrame: {type(users_pandas_df)}\")"
      ],
      "metadata": {
        "colab": {
          "base_uri": "https://localhost:8080/"
        },
        "id": "Jk7gtAd_N57Q",
        "outputId": "031f3faa-2c34-4236-99e4-c56d1f8af8ad"
      },
      "execution_count": 12,
      "outputs": [
        {
          "output_type": "stream",
          "name": "stdout",
          "text": [
            "Converting users_df to a Pandas DataFrame:\n",
            "   user_id   name  age       city\n",
            "0        1  Rahul   25  Bangalore\n",
            "1        2  Priya   30      Delhi\n",
            "2        3   Aman   22  Hyderabad\n",
            "3        4  Sneha   28    Chennai\n",
            "4        5  Arjun   35     Mumbai\n",
            "\n",
            "Type of new DataFrame: <class 'pandas.core.frame.DataFrame'>\n"
          ]
        }
      ]
    },
    {
      "cell_type": "code",
      "source": [
        "# Calculate average rating per genre\n",
        "genre_ratings = spark.sql(\"\"\"\n",
        "    SELECT m.genre, AVG(r.rating) as avg_rating\n",
        "    FROM ratings r\n",
        "    JOIN movies m ON r.movie_id = m.movie_id\n",
        "    GROUP BY m.genre\n",
        "    ORDER BY avg_rating DESC\n",
        "\"\"\")\n",
        "\n",
        "# Convert to Pandas for plotting\n",
        "genre_ratings_pd = genre_ratings.toPandas()\n",
        "\n",
        "# Plotting\n",
        "plt.figure(figsize=(10, 6))\n",
        "sns.barplot(x=\"genre\", y=\"avg_rating\", data=genre_ratings_pd)\n",
        "plt.title(\"Average Rating Per Genre\")\n",
        "plt.xlabel(\"Genre\")\n",
        "plt.ylabel(\"Average Rating\")\n",
        "plt.show()"
      ],
      "metadata": {
        "colab": {
          "base_uri": "https://localhost:8080/",
          "height": 564
        },
        "id": "RAO2ffPwN-ww",
        "outputId": "42daaad2-7b89-4379-eb1d-e53668dfcf17"
      },
      "execution_count": 13,
      "outputs": [
        {
          "output_type": "display_data",
          "data": {
            "text/plain": [
              "<Figure size 1000x600 with 1 Axes>"
            ],
            "image/png": "[encoded data removed]"
          },
          "metadata": {}
        }
      ]
    },
    {
      "cell_type": "code",
      "source": [
        "# Calculate number of ratings per year\n",
        "ratings_per_year = spark.sql(\"\"\"\n",
        "    SELECT m.year, COUNT(r.rating) as num_ratings\n",
        "    FROM ratings r\n",
        "    JOIN movies m ON r.movie_id = m.movie_id\n",
        "    GROUP BY m.year\n",
        "    ORDER BY m.year\n",
        "\"\"\")\n",
        "\n",
        "# Convert to Pandas for plotting\n",
        "ratings_per_year_pd = ratings_per_year.toPandas()\n",
        "\n",
        "# Plotting\n",
        "plt.figure(figsize=(10, 6))\n",
        "sns.lineplot(x=\"year\", y=\"num_ratings\", data=ratings_per_year_pd, marker='o')\n",
        "plt.title(\"Number of Ratings by Movie Release Year\")\n",
        "plt.xlabel(\"Year\")\n",
        "plt.ylabel(\"Number of Ratings\")\n",
        "plt.grid(True)\n",
        "plt.show()"
      ],
      "metadata": {
        "colab": {
          "base_uri": "https://localhost:8080/",
          "height": 564
        },
        "id": "2TOuXKZvOEC2",
        "outputId": "d4b1e53c-61e7-401e-e322-f4e5043b6c76"
      },
      "execution_count": 14,
      "outputs": [
        {
          "output_type": "display_data",
          "data": {
            "text/plain": [
              "<Figure size 1000x600 with 1 Axes>"
            ],
            "image/png": "[encoded data removed]"
          },
          "metadata": {}
        }
      ]
    },
    {
      "cell_type": "code",
      "source": [
        "# Calculate average rating given by each user\n",
        "avg_rating_by_user = spark.sql(\"\"\"\n",
        "    SELECT u.user_id, u.age, AVG(r.rating) as avg_rating_given\n",
        "    FROM users u\n",
        "    JOIN ratings r on u.user_id = r.user_id\n",
        "    GROUP BY u.user_id, u.age\n",
        "\"\"\")\n",
        "\n",
        "# Convert to Pandas for plotting\n",
        "avg_rating_by_user_pd = avg_rating_by_user.toPandas()\n",
        "\n",
        "# Plotting\n",
        "plt.figure(figsize=(10, 6))\n",
        "sns.scatterplot(x=\"age\", y=\"avg_rating_given\", data=avg_rating_by_user_pd)\n",
        "plt.title(\"User Age vs. Average Rating Given\")\n",
        "plt.xlabel(\"Age\")\n",
        "plt.ylabel(\"Average Rating Given\")\n",
        "plt.grid(True)\n",
        "plt.show()"
      ],
      "metadata": {
        "colab": {
          "base_uri": "https://localhost:8080/",
          "height": 564
        },
        "id": "P87DyXfGOJQa",
        "outputId": "e7a7e432-5fa0-4b69-8ca4-82260c59d733"
      },
      "execution_count": 15,
      "outputs": [
        {
          "output_type": "display_data",
          "data": {
            "text/plain": [
              "<Figure size 1000x600 with 1 Axes>"
            ],
            "image/png": "[encoded data removed]"
          },
          "metadata": {}
        }
      ]
    }
  ]
}
