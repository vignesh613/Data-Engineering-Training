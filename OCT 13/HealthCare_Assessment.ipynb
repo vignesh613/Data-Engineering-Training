{
 "cells": [
  {
   "cell_type": "code",
   "execution_count": 0,
   "metadata": {
    "application/vnd.databricks.v1+cell": {
     "cellMetadata": {
      "byteLimit": 2048000,
      "rowLimit": 10000
     },
     "inputWidgets": {},
     "nuid": "390a21f5-880c-4be3-9593-a76cac3f72f8",
     "showTitle": false,
     "tableResultSettingsMap": {},
     "title": ""
    }
   },
   "outputs": [],
   "source": [
    "from pyspark.sql import SparkSession\n",
    "from pyspark.sql.functions import col, year, month, sum as _sum, desc\n",
    "from delta.tables import DeltaTable\n",
    "\n",
    "spark = SparkSession.builder.appName(\"HealthcareMediPulse\").getOrCreate()\n",
    "\n"
   ]
  },
  {
   "cell_type": "code",
   "execution_count": 0,
   "metadata": {
    "application/vnd.databricks.v1+cell": {
     "cellMetadata": {
      "byteLimit": 2048000,
      "rowLimit": 10000
     },
     "inputWidgets": {},
     "nuid": "d180fe3d-2047-4705-8113-6efd609b4939",
     "showTitle": false,
     "tableResultSettingsMap": {},
     "title": ""
    }
   },
   "outputs": [],
   "source": [
    "# Patients\n",
    "patients_data = [\n",
    "    (\"P001\", \"Arjun Mehta\", 34, \"M\", \"North\"),\n",
    "    (\"P002\", \"Neha Sharma\", 29, \"F\", \"South\"),\n",
    "    (\"P003\", \"Rahul Gupta\", 40, \"M\", \"East\"),\n",
    "    (\"P004\", \"Sneha Nair\", 25, \"F\", \"West\")\n",
    "]\n",
    "patients_df = spark.createDataFrame(patients_data, [\"patient_id\", \"name\", \"age\", \"gender\", \"region\"])\n"
   ]
  },
  {
   "cell_type": "code",
   "execution_count": 0,
   "metadata": {
    "application/vnd.databricks.v1+cell": {
     "cellMetadata": {
      "byteLimit": 2048000,
      "rowLimit": 10000
     },
     "inputWidgets": {},
     "nuid": "c97c515b-7741-4c33-b2fa-9f2bb0ca9e96",
     "showTitle": false,
     "tableResultSettingsMap": {},
     "title": ""
    }
   },
   "outputs": [],
   "source": [
    "# Hospitals\n",
    "hospitals_data = [\n",
    "    (\"H001\", \"City Care\", \"North\"),\n",
    "    (\"H002\", \"LifePlus\", \"South\"),\n",
    "    (\"H003\", \"MediHope\", \"East\"),\n",
    "    (\"H004\", \"CureWell\", \"West\")\n",
    "]\n",
    "hospitals_df = spark.createDataFrame(hospitals_data, [\"hospital_id\", \"hospital_name\", \"region\"])\n"
   ]
  },
  {
   "cell_type": "code",
   "execution_count": 0,
   "metadata": {
    "application/vnd.databricks.v1+cell": {
     "cellMetadata": {
      "byteLimit": 2048000,
      "rowLimit": 10000
     },
     "inputWidgets": {},
     "nuid": "e573d5c2-8cc8-4509-a478-f2370b612141",
     "showTitle": false,
     "tableResultSettingsMap": {},
     "title": ""
    }
   },
   "outputs": [],
   "source": [
    "# Appointments Day 1\n",
    "appointments_day1_data = [\n",
    "    (\"A1001\", \"P001\", \"H001\", \"2024-01-10\", \"Diabetes\", 400, \"Completed\"),\n",
    "    (\"A1002\", \"P002\", \"H002\", \"2024-01-11\", \"Flu\", 250, \"Completed\"),\n",
    "    (\"A1003\", \"P003\", \"H003\", \"2024-01-11\", \"Heart Disease\", 1000, \"Pending\"),\n",
    "    (\"A1004\", \"P004\", \"H004\", \"2024-01-12\", \"Allergy\", 300, \"Completed\")\n",
    "]\n",
    "appointments_df = spark.createDataFrame(\n",
    "    appointments_day1_data,\n",
    "    [\"appointment_id\", \"patient_id\", \"hospital_id\", \"appointment_date\", \"diagnosis\", \"cost\", \"status\"]\n",
    ")\n"
   ]
  },
  {
   "cell_type": "code",
   "execution_count": 0,
   "metadata": {
    "application/vnd.databricks.v1+cell": {
     "cellMetadata": {
      "byteLimit": 2048000,
      "rowLimit": 10000
     },
     "inputWidgets": {},
     "nuid": "9a057eab-5031-4276-835e-c8f7ea778647",
     "showTitle": false,
     "tableResultSettingsMap": {},
     "title": ""
    }
   },
   "outputs": [
    {
     "output_type": "stream",
     "name": "stdout",
     "output_type": "stream",
     "text": [
      "✅ Bronze Layer Written Successfully\n"
     ]
    }
   ],
   "source": [
    "# Bronze Paths\n",
    "bronze_path = \"/mnt/medipulse/bronze/\"\n",
    "\n",
    "# Write Delta tables\n",
    "patients_df.write.format(\"delta\").mode(\"overwrite\").save(bronze_path + \"patients\")\n",
    "hospitals_df.write.format(\"delta\").mode(\"overwrite\").save(bronze_path + \"hospitals\")\n",
    "appointments_df.write.format(\"delta\").mode(\"overwrite\").save(bronze_path + \"appointments\")\n",
    "\n",
    "print(\"✅ Bronze Layer Written Successfully\")\n"
   ]
  },
  {
   "cell_type": "code",
   "execution_count": 0,
   "metadata": {
    "application/vnd.databricks.v1+cell": {
     "cellMetadata": {
      "byteLimit": 2048000,
      "rowLimit": 10000
     },
     "inputWidgets": {},
     "nuid": "a1c6595b-fffc-4d50-a536-101147ad4959",
     "showTitle": false,
     "tableResultSettingsMap": {},
     "title": ""
    }
   },
   "outputs": [],
   "source": [
    "bronze_patients = spark.read.format(\"delta\").load(bronze_path + \"patients\")\n",
    "bronze_hospitals = spark.read.format(\"delta\").load(bronze_path + \"hospitals\")\n",
    "bronze_appointments = spark.read.format(\"delta\").load(bronze_path + \"appointments\")\n"
   ]
  },
  {
   "cell_type": "code",
   "execution_count": 0,
   "metadata": {
    "application/vnd.databricks.v1+cell": {
     "cellMetadata": {
      "byteLimit": 2048000,
      "rowLimit": 10000
     },
     "inputWidgets": {},
     "nuid": "861d7e24-f5b9-4801-ac13-59ec3304981d",
     "showTitle": false,
     "tableResultSettingsMap": {},
     "title": ""
    }
   },
   "outputs": [],
   "source": [
    "# Rename hospital region to hospital_region to avoid duplicate column\n",
    "bronze_hospitals_renamed = bronze_hospitals.withColumnRenamed(\"region\", \"hospital_region\")\n",
    "\n",
    "# Join\n",
    "silver_appointments = (\n",
    "    clean_appointments\n",
    "    .join(bronze_patients, \"patient_id\", \"inner\")\n",
    "    .join(bronze_hospitals_renamed, \"hospital_id\", \"inner\")\n",
    "    .withColumn(\"year\", year(col(\"appointment_date\")))\n",
    "    .withColumn(\"month\", month(col(\"appointment_date\")))\n",
    ")\n"
   ]
  },
  {
   "cell_type": "code",
   "execution_count": 0,
   "metadata": {
    "application/vnd.databricks.v1+cell": {
     "cellMetadata": {
      "byteLimit": 2048000,
      "rowLimit": 10000
     },
     "inputWidgets": {},
     "nuid": "93146987-58b9-4bee-b845-66a08fd355a3",
     "showTitle": false,
     "tableResultSettingsMap": {},
     "title": ""
    }
   },
   "outputs": [
    {
     "output_type": "stream",
     "name": "stdout",
     "output_type": "stream",
     "text": [
      "✅ Silver Layer Written Successfully\n"
     ]
    }
   ],
   "source": [
    "silver_path = \"/mnt/medipulse/silver/\"\n",
    "silver_appointments.write.format(\"delta\").mode(\"overwrite\").save(silver_path + \"appointments\")\n",
    "\n",
    "print(\"✅ Silver Layer Written Successfully\")"
   ]
  },
  {
   "cell_type": "code",
   "execution_count": 0,
   "metadata": {
    "application/vnd.databricks.v1+cell": {
     "cellMetadata": {
      "byteLimit": 2048000,
      "rowLimit": 10000
     },
     "inputWidgets": {},
     "nuid": "3f9b5509-2e7d-42c8-8897-a738c50d7f02",
     "showTitle": false,
     "tableResultSettingsMap": {},
     "title": ""
    }
   },
   "outputs": [
    {
     "output_type": "display_data",
     "data": {
      "text/html": [
       "<style scoped>\n",
       "  .table-result-container {\n",
       "    max-height: 300px;\n",
       "    overflow: auto;\n",
       "  }\n",
       "  table, th, td {\n",
       "    border: 1px solid black;\n",
       "    border-collapse: collapse;\n",
       "  }\n",
       "  th, td {\n",
       "    padding: 5px;\n",
       "  }\n",
       "  th {\n",
       "    text-align: left;\n",
       "  }\n",
       "</style><div class='table-result-container'><table class='table-result'><thead style='background-color: white'><tr><th>hospital_name</th><th>total_revenue</th></tr></thead><tbody><tr><td>City Care</td><td>400</td></tr><tr><td>CureWell</td><td>300</td></tr><tr><td>LifePlus</td><td>250</td></tr></tbody></table></div>"
      ]
     },
     "metadata": {
      "application/vnd.databricks.v1+output": {
       "addedWidgets": {},
       "aggData": [],
       "aggError": "",
       "aggOverflow": false,
       "aggSchema": [],
       "aggSeriesLimitReached": false,
       "aggType": "",
       "arguments": {},
       "columnCustomDisplayInfos": {},
       "data": [
        [
         "City Care",
         400
        ],
        [
         "CureWell",
         300
        ],
        [
         "LifePlus",
         250
        ]
       ],
       "datasetInfos": [],
       "dbfsResultPath": null,
       "isJsonSchema": true,
       "metadata": {},
       "overflow": false,
       "plotOptions": {
        "customPlotOptions": {},
        "displayType": "table",
        "pivotAggregation": null,
        "pivotColumns": null,
        "xColumns": null,
        "yColumns": null
       },
       "removedWidgets": [],
       "schema": [
        {
         "metadata": "{}",
         "name": "hospital_name",
         "type": "\"string\""
        },
        {
         "metadata": "{}",
         "name": "total_revenue",
         "type": "\"long\""
        }
       ],
       "type": "table"
      }
     },
     "output_type": "display_data"
    },
    {
     "output_type": "display_data",
     "data": {
      "text/html": [
       "<style scoped>\n",
       "  .table-result-container {\n",
       "    max-height: 300px;\n",
       "    overflow: auto;\n",
       "  }\n",
       "  table, th, td {\n",
       "    border: 1px solid black;\n",
       "    border-collapse: collapse;\n",
       "  }\n",
       "  th, td {\n",
       "    padding: 5px;\n",
       "  }\n",
       "  th {\n",
       "    text-align: left;\n",
       "  }\n",
       "</style><div class='table-result-container'><table class='table-result'><thead style='background-color: white'><tr><th>region</th><th>total_revenue</th><th>total_patients</th></tr></thead><tbody><tr><td>West</td><td>300</td><td>1</td></tr><tr><td>North</td><td>400</td><td>1</td></tr><tr><td>South</td><td>250</td><td>1</td></tr></tbody></table></div>"
      ]
     },
     "metadata": {
      "application/vnd.databricks.v1+output": {
       "addedWidgets": {},
       "aggData": [],
       "aggError": "",
       "aggOverflow": false,
       "aggSchema": [],
       "aggSeriesLimitReached": false,
       "aggType": "",
       "arguments": {},
       "columnCustomDisplayInfos": {},
       "data": [
        [
         "West",
         300,
         1
        ],
        [
         "North",
         400,
         1
        ],
        [
         "South",
         250,
         1
        ]
       ],
       "datasetInfos": [],
       "dbfsResultPath": null,
       "isJsonSchema": true,
       "metadata": {},
       "overflow": false,
       "plotOptions": {
        "customPlotOptions": {},
        "displayType": "table",
        "pivotAggregation": null,
        "pivotColumns": null,
        "xColumns": null,
        "yColumns": null
       },
       "removedWidgets": [],
       "schema": [
        {
         "metadata": "{}",
         "name": "region",
         "type": "\"string\""
        },
        {
         "metadata": "{}",
         "name": "total_revenue",
         "type": "\"long\""
        },
        {
         "metadata": "{}",
         "name": "total_patients",
         "type": "\"long\""
        }
       ],
       "type": "table"
      }
     },
     "output_type": "display_data"
    }
   ],
   "source": [
    "from pyspark.sql.functions import sum as _sum, countDistinct\n",
    "\n",
    "silver_df = spark.read.format(\"delta\").load(silver_path + \"appointments\")\n",
    "\n",
    "# Total revenue per hospital\n",
    "revenue_per_hospital = silver_df.groupBy(\"hospital_name\").agg(\n",
    "    _sum(\"cost\").alias(\"total_revenue\")\n",
    ")\n",
    "\n",
    "# Total patients per region\n",
    "patients_per_region = silver_df.groupBy(\"region\").agg(\n",
    "    _sum(\"cost\").alias(\"total_revenue\"),\n",
    "    countDistinct(\"patient_id\").alias(\"total_patients\")\n",
    ")\n",
    "\n",
    "display(revenue_per_hospital)\n",
    "display(patients_per_region)\n"
   ]
  },
  {
   "cell_type": "code",
   "execution_count": 0,
   "metadata": {
    "application/vnd.databricks.v1+cell": {
     "cellMetadata": {
      "byteLimit": 2048000,
      "rowLimit": 10000
     },
     "inputWidgets": {},
     "nuid": "db52a37d-d747-4edc-bdec-7702bb879838",
     "showTitle": false,
     "tableResultSettingsMap": {},
     "title": ""
    }
   },
   "outputs": [
    {
     "output_type": "stream",
     "name": "stdout",
     "output_type": "stream",
     "text": [
      "✅ Gold Layer Written Successfully\n"
     ]
    }
   ],
   "source": [
    "top_diagnosis = silver_df.groupBy(\"diagnosis\").agg(_sum(\"cost\").alias(\"total_cost\")) \\\n",
    "    .orderBy(desc(\"total_cost\")).limit(3)\n",
    "\n",
    "gold_path = \"/mnt/medipulse/gold/\"\n",
    "revenue_per_hospital.write.format(\"delta\").mode(\"overwrite\").save(gold_path + \"revenue_per_hospital\")\n",
    "patients_per_region.write.format(\"delta\").mode(\"overwrite\").save(gold_path + \"patients_per_region\")\n",
    "top_diagnosis.write.format(\"delta\").mode(\"overwrite\").save(gold_path + \"top_diagnosis\")\n",
    "\n",
    "print(\"✅ Gold Layer Written Successfully\")\n"
   ]
  },
  {
   "cell_type": "code",
   "execution_count": 0,
   "metadata": {
    "application/vnd.databricks.v1+cell": {
     "cellMetadata": {
      "byteLimit": 2048000,
      "rowLimit": 10000
     },
     "inputWidgets": {},
     "nuid": "099d5875-0870-40e7-919e-8ca49e105bd0",
     "showTitle": false,
     "tableResultSettingsMap": {},
     "title": ""
    }
   },
   "outputs": [],
   "source": [
    "\n",
    "# Appointments Day 2\n",
    "appointments_day2_data = [\n",
    "    (\"A1005\", \"P002\", \"H001\", \"2024-02-01\", \"Checkup\", 500, \"Completed\"),\n",
    "    (\"A1006\", \"P003\", \"H003\", \"2024-02-02\", \"Diabetes\", 450, \"Completed\")\n",
    "]\n",
    "appointments_day2_df = spark.createDataFrame(\n",
    "    appointments_day2_data,\n",
    "    [\"appointment_id\", \"patient_id\", \"hospital_id\", \"appointment_date\", \"diagnosis\", \"cost\", \"status\"]\n",
    ")"
   ]
  },
  {
   "cell_type": "code",
   "execution_count": 0,
   "metadata": {
    "application/vnd.databricks.v1+cell": {
     "cellMetadata": {
      "byteLimit": 2048000,
      "rowLimit": 10000
     },
     "inputWidgets": {},
     "nuid": "4c44a4df-c6ec-4ef6-afc2-595c39806450",
     "showTitle": false,
     "tableResultSettingsMap": {},
     "title": ""
    }
   },
   "outputs": [],
   "source": [
    "# Rename hospital region to hospital_region\n",
    "bronze_hospitals_renamed = bronze_hospitals.withColumnRenamed(\"region\", \"hospital_region\")\n",
    "\n",
    "updated_df = (\n",
    "    appointments_day2_df.filter(col(\"status\") == \"Completed\")\n",
    "    .join(bronze_patients, \"patient_id\", \"inner\")  # keeps 'region' for patient\n",
    "    .join(bronze_hospitals_renamed, \"hospital_id\", \"inner\")  # 'hospital_region' instead of 'region'\n",
    "    .withColumn(\"year\", year(col(\"appointment_date\")))\n",
    "    .withColumn(\"month\", month(col(\"appointment_date\")))\n",
    ")\n"
   ]
  },
  {
   "cell_type": "code",
   "execution_count": 0,
   "metadata": {
    "application/vnd.databricks.v1+cell": {
     "cellMetadata": {
      "byteLimit": 2048000,
      "rowLimit": 10000
     },
     "inputWidgets": {},
     "nuid": "dcc62353-94c3-412c-8978-0f997d1a4523",
     "showTitle": false,
     "tableResultSettingsMap": {},
     "title": ""
    }
   },
   "outputs": [],
   "source": [
    "updated_df = (\n",
    "    appointments_day2_df.filter(col(\"status\") == \"Completed\")\n",
    "    .join(bronze_patients, \"patient_id\", \"inner\")\n",
    "    .join(bronze_hospitals, \"hospital_id\", \"inner\")\n",
    "    .drop(bronze_hospitals.region)  # drop hospital region\n",
    "    .withColumn(\"year\", year(col(\"appointment_date\")))\n",
    "    .withColumn(\"month\", month(col(\"appointment_date\")))\n",
    ")\n"
   ]
  },
  {
   "cell_type": "code",
   "execution_count": 0,
   "metadata": {
    "application/vnd.databricks.v1+cell": {
     "cellMetadata": {
      "byteLimit": 2048000,
      "rowLimit": 10000
     },
     "inputWidgets": {},
     "nuid": "db6b3d60-762d-4068-a5ae-0ab92fffede1",
     "showTitle": false,
     "tableResultSettingsMap": {},
     "title": ""
    }
   },
   "outputs": [
    {
     "output_type": "display_data",
     "data": {
      "text/html": [
       "<style scoped>\n",
       "  .table-result-container {\n",
       "    max-height: 300px;\n",
       "    overflow: auto;\n",
       "  }\n",
       "  table, th, td {\n",
       "    border: 1px solid black;\n",
       "    border-collapse: collapse;\n",
       "  }\n",
       "  th, td {\n",
       "    padding: 5px;\n",
       "  }\n",
       "  th {\n",
       "    text-align: left;\n",
       "  }\n",
       "</style><div class='table-result-container'><table class='table-result'><thead style='background-color: white'><tr><th>hospital_name</th><th>total_revenue</th></tr></thead><tbody><tr><td>City Care</td><td>400</td></tr><tr><td>CureWell</td><td>300</td></tr><tr><td>LifePlus</td><td>250</td></tr></tbody></table></div>"
      ]
     },
     "metadata": {
      "application/vnd.databricks.v1+output": {
       "addedWidgets": {},
       "aggData": [],
       "aggError": "",
       "aggOverflow": false,
       "aggSchema": [],
       "aggSeriesLimitReached": false,
       "aggType": "",
       "arguments": {},
       "columnCustomDisplayInfos": {},
       "data": [
        [
         "City Care",
         400
        ],
        [
         "CureWell",
         300
        ],
        [
         "LifePlus",
         250
        ]
       ],
       "datasetInfos": [],
       "dbfsResultPath": null,
       "isJsonSchema": true,
       "metadata": {},
       "overflow": false,
       "plotOptions": {
        "customPlotOptions": {},
        "displayType": "table",
        "pivotAggregation": null,
        "pivotColumns": null,
        "xColumns": null,
        "yColumns": null
       },
       "removedWidgets": [],
       "schema": [
        {
         "metadata": "{}",
         "name": "hospital_name",
         "type": "\"string\""
        },
        {
         "metadata": "{}",
         "name": "total_revenue",
         "type": "\"long\""
        }
       ],
       "type": "table"
      }
     },
     "output_type": "display_data"
    },
    {
     "output_type": "stream",
     "name": "stdout",
     "output_type": "stream",
     "text": [
      "✅ Delta Lake Features Applied Successfully\n"
     ]
    }
   ],
   "source": [
    "# Time Travel: view gold before incremental\n",
    "gold_before_increment = spark.read.format(\"delta\").option(\"versionAsOf\", 0).load(gold_path + \"revenue_per_hospital\")\n",
    "display(gold_before_increment)\n",
    "\n",
    "# Vacuum safely (7-day retention)\n",
    "spark.sql(f\"VACUUM delta.`{gold_path}revenue_per_hospital` RETAIN 168 HOURS\")\n",
    "\n",
    "# Optimize + Z-Ordering for hospital_id\n",
    "spark.sql(f\"OPTIMIZE delta.`{silver_path}appointments` ZORDER BY (hospital_id)\")\n",
    "\n",
    "print(\"✅ Delta Lake Features Applied Successfully\")\n"
   ]
  },
  {
   "cell_type": "code",
   "execution_count": 0,
   "metadata": {
    "application/vnd.databricks.v1+cell": {
     "cellMetadata": {
      "byteLimit": 2048000,
      "rowLimit": 10000
     },
     "inputWidgets": {},
     "nuid": "9751792e-61c8-4fba-aa32-191192fb7702",
     "showTitle": false,
     "tableResultSettingsMap": {},
     "title": ""
    }
   },
   "outputs": [
    {
     "output_type": "display_data",
     "data": {
      "text/html": [
       "<style scoped>\n",
       "  .table-result-container {\n",
       "    max-height: 300px;\n",
       "    overflow: auto;\n",
       "  }\n",
       "  table, th, td {\n",
       "    border: 1px solid black;\n",
       "    border-collapse: collapse;\n",
       "  }\n",
       "  th, td {\n",
       "    padding: 5px;\n",
       "  }\n",
       "  th {\n",
       "    text-align: left;\n",
       "  }\n",
       "</style><div class='table-result-container'><table class='table-result'><thead style='background-color: white'><tr><th>hospital_name</th><th>total_revenue</th></tr></thead><tbody><tr><td>City Care</td><td>400</td></tr><tr><td>CureWell</td><td>300</td></tr><tr><td>LifePlus</td><td>250</td></tr></tbody></table></div>"
      ]
     },
     "metadata": {
      "application/vnd.databricks.v1+output": {
       "addedWidgets": {},
       "aggData": [],
       "aggError": "",
       "aggOverflow": false,
       "aggSchema": [],
       "aggSeriesLimitReached": false,
       "aggType": "",
       "arguments": {},
       "columnCustomDisplayInfos": {},
       "data": [
        [
         "City Care",
         400
        ],
        [
         "CureWell",
         300
        ],
        [
         "LifePlus",
         250
        ]
       ],
       "datasetInfos": [],
       "dbfsResultPath": null,
       "isJsonSchema": true,
       "metadata": {},
       "overflow": false,
       "plotOptions": {
        "customPlotOptions": {},
        "displayType": "table",
        "pivotAggregation": null,
        "pivotColumns": null,
        "xColumns": null,
        "yColumns": null
       },
       "removedWidgets": [],
       "schema": [
        {
         "metadata": "{}",
         "name": "hospital_name",
         "type": "\"string\""
        },
        {
         "metadata": "{}",
         "name": "total_revenue",
         "type": "\"long\""
        }
       ],
       "type": "table"
      }
     },
     "output_type": "display_data"
    },
    {
     "output_type": "display_data",
     "data": {
      "text/html": [
       "<style scoped>\n",
       "  .table-result-container {\n",
       "    max-height: 300px;\n",
       "    overflow: auto;\n",
       "  }\n",
       "  table, th, td {\n",
       "    border: 1px solid black;\n",
       "    border-collapse: collapse;\n",
       "  }\n",
       "  th, td {\n",
       "    padding: 5px;\n",
       "  }\n",
       "  th {\n",
       "    text-align: left;\n",
       "  }\n",
       "</style><div class='table-result-container'><table class='table-result'><thead style='background-color: white'><tr><th>diagnosis</th><th>avg_cost</th></tr></thead><tbody><tr><td>Flu</td><td>250.0</td></tr><tr><td>Diabetes</td><td>400.0</td></tr><tr><td>Allergy</td><td>300.0</td></tr></tbody></table></div>"
      ]
     },
     "metadata": {
      "application/vnd.databricks.v1+output": {
       "addedWidgets": {},
       "aggData": [],
       "aggError": "",
       "aggOverflow": false,
       "aggSchema": [],
       "aggSeriesLimitReached": false,
       "aggType": "",
       "arguments": {},
       "columnCustomDisplayInfos": {},
       "data": [
        [
         "Flu",
         250.0
        ],
        [
         "Diabetes",
         400.0
        ],
        [
         "Allergy",
         300.0
        ]
       ],
       "datasetInfos": [],
       "dbfsResultPath": null,
       "isJsonSchema": true,
       "metadata": {},
       "overflow": false,
       "plotOptions": {
        "customPlotOptions": {},
        "displayType": "table",
        "pivotAggregation": null,
        "pivotColumns": null,
        "xColumns": null,
        "yColumns": null
       },
       "removedWidgets": [],
       "schema": [
        {
         "metadata": "{}",
         "name": "diagnosis",
         "type": "\"string\""
        },
        {
         "metadata": "{}",
         "name": "avg_cost",
         "type": "\"double\""
        }
       ],
       "type": "table"
      }
     },
     "output_type": "display_data"
    },
    {
     "output_type": "display_data",
     "data": {
      "text/html": [
       "<style scoped>\n",
       "  .table-result-container {\n",
       "    max-height: 300px;\n",
       "    overflow: auto;\n",
       "  }\n",
       "  table, th, td {\n",
       "    border: 1px solid black;\n",
       "    border-collapse: collapse;\n",
       "  }\n",
       "  th, td {\n",
       "    padding: 5px;\n",
       "  }\n",
       "  th {\n",
       "    text-align: left;\n",
       "  }\n",
       "</style><div class='table-result-container'><table class='table-result'><thead style='background-color: white'><tr><th>region</th><th>num_patients</th></tr></thead><tbody><tr><td>West</td><td>1</td></tr><tr><td>North</td><td>1</td></tr><tr><td>South</td><td>1</td></tr></tbody></table></div>"
      ]
     },
     "metadata": {
      "application/vnd.databricks.v1+output": {
       "addedWidgets": {},
       "aggData": [],
       "aggError": "",
       "aggOverflow": false,
       "aggSchema": [],
       "aggSeriesLimitReached": false,
       "aggType": "",
       "arguments": {},
       "columnCustomDisplayInfos": {},
       "data": [
        [
         "West",
         1
        ],
        [
         "North",
         1
        ],
        [
         "South",
         1
        ]
       ],
       "datasetInfos": [],
       "dbfsResultPath": null,
       "isJsonSchema": true,
       "metadata": {},
       "overflow": false,
       "plotOptions": {
        "customPlotOptions": {},
        "displayType": "table",
        "pivotAggregation": null,
        "pivotColumns": null,
        "xColumns": null,
        "yColumns": null
       },
       "removedWidgets": [],
       "schema": [
        {
         "metadata": "{}",
         "name": "region",
         "type": "\"string\""
        },
        {
         "metadata": "{}",
         "name": "num_patients",
         "type": "\"long\""
        }
       ],
       "type": "table"
      }
     },
     "output_type": "display_data"
    },
    {
     "output_type": "display_data",
     "data": {
      "text/html": [
       "<style scoped>\n",
       "  .table-result-container {\n",
       "    max-height: 300px;\n",
       "    overflow: auto;\n",
       "  }\n",
       "  table, th, td {\n",
       "    border: 1px solid black;\n",
       "    border-collapse: collapse;\n",
       "  }\n",
       "  th, td {\n",
       "    padding: 5px;\n",
       "  }\n",
       "  th {\n",
       "    text-align: left;\n",
       "  }\n",
       "</style><div class='table-result-container'><table class='table-result'><thead style='background-color: white'><tr><th>year</th><th>month</th><th>count</th></tr></thead><tbody><tr><td>2024</td><td>1</td><td>3</td></tr></tbody></table></div>"
      ]
     },
     "metadata": {
      "application/vnd.databricks.v1+output": {
       "addedWidgets": {},
       "aggData": [],
       "aggError": "",
       "aggOverflow": false,
       "aggSchema": [],
       "aggSeriesLimitReached": false,
       "aggType": "",
       "arguments": {},
       "columnCustomDisplayInfos": {},
       "data": [
        [
         2024,
         1,
         3
        ]
       ],
       "datasetInfos": [],
       "dbfsResultPath": null,
       "isJsonSchema": true,
       "metadata": {},
       "overflow": false,
       "plotOptions": {
        "customPlotOptions": {},
        "displayType": "table",
        "pivotAggregation": null,
        "pivotColumns": null,
        "xColumns": null,
        "yColumns": null
       },
       "removedWidgets": [],
       "schema": [
        {
         "metadata": "{}",
         "name": "year",
         "type": "\"integer\""
        },
        {
         "metadata": "{}",
         "name": "month",
         "type": "\"integer\""
        },
        {
         "metadata": "{}",
         "name": "count",
         "type": "\"long\""
        }
       ],
       "type": "table"
      }
     },
     "output_type": "display_data"
    },
    {
     "output_type": "display_data",
     "data": {
      "text/html": [
       "<style scoped>\n",
       "  .table-result-container {\n",
       "    max-height: 300px;\n",
       "    overflow: auto;\n",
       "  }\n",
       "  table, th, td {\n",
       "    border: 1px solid black;\n",
       "    border-collapse: collapse;\n",
       "  }\n",
       "  th, td {\n",
       "    padding: 5px;\n",
       "  }\n",
       "  th {\n",
       "    text-align: left;\n",
       "  }\n",
       "</style><div class='table-result-container'><table class='table-result'><thead style='background-color: white'><tr><th>hospital_id</th><th>patient_id</th><th>appointment_id</th><th>appointment_date</th><th>diagnosis</th><th>cost</th><th>status</th><th>name</th><th>age</th><th>gender</th><th>region</th><th>hospital_name</th><th>hospital_region</th><th>year</th><th>month</th></tr></thead><tbody></tbody></table></div>"
      ]
     },
     "metadata": {
      "application/vnd.databricks.v1+output": {
       "addedWidgets": {},
       "aggData": [],
       "aggError": "",
       "aggOverflow": false,
       "aggSchema": [],
       "aggSeriesLimitReached": false,
       "aggType": "",
       "arguments": {},
       "columnCustomDisplayInfos": {},
       "data": [],
       "datasetInfos": [],
       "dbfsResultPath": null,
       "isJsonSchema": true,
       "metadata": {},
       "overflow": false,
       "plotOptions": {
        "customPlotOptions": {},
        "displayType": "table",
        "pivotAggregation": null,
        "pivotColumns": null,
        "xColumns": null,
        "yColumns": null
       },
       "removedWidgets": [],
       "schema": [
        {
         "metadata": "{}",
         "name": "hospital_id",
         "type": "\"string\""
        },
        {
         "metadata": "{}",
         "name": "patient_id",
         "type": "\"string\""
        },
        {
         "metadata": "{}",
         "name": "appointment_id",
         "type": "\"string\""
        },
        {
         "metadata": "{}",
         "name": "appointment_date",
         "type": "\"string\""
        },
        {
         "metadata": "{}",
         "name": "diagnosis",
         "type": "\"string\""
        },
        {
         "metadata": "{}",
         "name": "cost",
         "type": "\"long\""
        },
        {
         "metadata": "{}",
         "name": "status",
         "type": "\"string\""
        },
        {
         "metadata": "{}",
         "name": "name",
         "type": "\"string\""
        },
        {
         "metadata": "{}",
         "name": "age",
         "type": "\"long\""
        },
        {
         "metadata": "{}",
         "name": "gender",
         "type": "\"string\""
        },
        {
         "metadata": "{}",
         "name": "region",
         "type": "\"string\""
        },
        {
         "metadata": "{}",
         "name": "hospital_name",
         "type": "\"string\""
        },
        {
         "metadata": "{}",
         "name": "hospital_region",
         "type": "\"string\""
        },
        {
         "metadata": "{}",
         "name": "year",
         "type": "\"integer\""
        },
        {
         "metadata": "{}",
         "name": "month",
         "type": "\"integer\""
        }
       ],
       "type": "table"
      }
     },
     "output_type": "display_data"
    },
    {
     "output_type": "stream",
     "name": "stdout",
     "output_type": "stream",
     "text": [
      "\uD83C\uDF89 Healthcare Data Engineering Pipeline Complete!\n"
     ]
    }
   ],
   "source": [
    "# 1️⃣ Total revenue per hospital\n",
    "display(revenue_per_hospital)\n",
    "\n",
    "# 2️⃣ Average cost per diagnosis category\n",
    "avg_cost_diagnosis = silver_df.groupBy(\"diagnosis\").agg((_sum(\"cost\")/countDistinct(\"appointment_id\")).alias(\"avg_cost\"))\n",
    "display(avg_cost_diagnosis)\n",
    "\n",
    "# 3️⃣ Number of patients per region\n",
    "patients_count = silver_df.groupBy(\"region\").agg(countDistinct(\"patient_id\").alias(\"num_patients\"))\n",
    "display(patients_count)\n",
    "\n",
    "# 4️⃣ Trend of appointments month-over-month\n",
    "monthly_trend = silver_df.groupBy(\"year\", \"month\").count().orderBy(\"year\", \"month\")\n",
    "display(monthly_trend)\n",
    "\n",
    "# 5️⃣ Top 5 most expensive treatments in last 6 months\n",
    "from pyspark.sql.functions import current_date, datediff\n",
    "recent_df = silver_df.filter(datediff(current_date(), col(\"appointment_date\")) <= 180)\n",
    "top_5_expensive = recent_df.orderBy(desc(\"cost\")).limit(5)\n",
    "display(top_5_expensive)\n",
    "\n",
    "print(\"\uD83C\uDF89 Healthcare Data Engineering Pipeline Complete!\")"
   ]
  }
 ],
 "metadata": {
  "application/vnd.databricks.v1+notebook": {
   "computePreferences": null,
   "dashboards": [],
   "environmentMetadata": {
    "base_environment": "",
    "environment_version": "4"
   },
   "inputWidgetPreferences": null,
   "language": "python",
   "notebookMetadata": {
    "pythonIndentUnit": 4
   },
   "notebookName": "Untitled Notebook 2025-10-13 12:53:12",
   "widgets": {}
  },
  "language_info": {
   "name": "python"
  }
 },
 "nbformat": 4,
 "nbformat_minor": 0
}