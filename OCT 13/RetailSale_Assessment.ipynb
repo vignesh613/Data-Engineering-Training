{
 "cells": [
  {
   "cell_type": "code",
   "execution_count": 0,
   "metadata": {
    "application/vnd.databricks.v1+cell": {
     "cellMetadata": {
      "byteLimit": 2048000,
      "rowLimit": 10000
     },
     "inputWidgets": {},
     "nuid": "9a81aa93-2fa1-4daa-a016-3398a8dda303",
     "showTitle": false,
     "tableResultSettingsMap": {},
     "title": ""
    }
   },
   "outputs": [],
   "source": [
    "from pyspark.sql import SparkSession\n",
    "from pyspark.sql.functions import col, when, sum as _sum, rank, desc, expr\n",
    "from pyspark.sql.window import Window\n",
    "\n",
    "spark = SparkSession.builder.appName(\"Retail360\").getOrCreate()"
   ]
  },
  {
   "cell_type": "code",
   "execution_count": 0,
   "metadata": {
    "application/vnd.databricks.v1+cell": {
     "cellMetadata": {
      "byteLimit": 2048000,
      "rowLimit": 10000
     },
     "inputWidgets": {},
     "nuid": "c39bf5cc-969b-4b1b-aaa6-cb6e5d6d0002",
     "showTitle": false,
     "tableResultSettingsMap": {},
     "title": ""
    }
   },
   "outputs": [],
   "source": [
    "# Customer data\n",
    "customers = [\n",
    "    (1, \"Arjun Rao\", \"North\", \"arjun@example.com\"),\n",
    "    (2, \"Sneha Patel\", \"South\", \"sneha@example.com\"),\n",
    "    (3, \"Rahul Sharma\", \"East\", \"rahul@example.com\"),\n",
    "    (4, \"Neha Iyer\", \"West\", \"neha@example.com\")\n",
    "]\n",
    "customers_df = spark.createDataFrame(customers, [\"customer_id\", \"name\", \"region\", \"email\"])"
   ]
  },
  {
   "cell_type": "code",
   "execution_count": 0,
   "metadata": {
    "application/vnd.databricks.v1+cell": {
     "cellMetadata": {
      "byteLimit": 2048000,
      "rowLimit": 10000
     },
     "inputWidgets": {},
     "nuid": "aeb89139-4f71-48ac-8f6a-588fda559f63",
     "showTitle": false,
     "tableResultSettingsMap": {},
     "title": ""
    }
   },
   "outputs": [],
   "source": [
    "\n",
    "# Orders Day 1\n",
    "orders_day1 = [\n",
    "    (1001, 1, \"Laptop\", 2, 55000, \"Completed\", \"2024-01-15\"),\n",
    "    (1002, 2, \"Mobile\", 3, 25000, \"Completed\", \"2024-01-16\"),\n",
    "    (1003, 3, \"Book\", 10, 700, \"Pending\", \"2024-01-16\"),\n",
    "    (1004, 1, \"Headphones\", 5, 3000, \"Completed\", \"2024-01-17\")\n",
    "]\n",
    "orders_day1_df = spark.createDataFrame(orders_day1, [\"order_id\",\"customer_id\",\"product\",\"quantity\",\"price\",\"status\",\"order_date\"])"
   ]
  },
  {
   "cell_type": "code",
   "execution_count": 0,
   "metadata": {
    "application/vnd.databricks.v1+cell": {
     "cellMetadata": {
      "byteLimit": 2048000,
      "rowLimit": 10000
     },
     "inputWidgets": {},
     "nuid": "8f8b1ae6-57ec-4fad-bc39-63958c7a02d7",
     "showTitle": false,
     "tableResultSettingsMap": {},
     "title": ""
    }
   },
   "outputs": [],
   "source": [
    "# Product data\n",
    "products = [\n",
    "    (\"P001\", \"Laptop\", \"Electronics\"),\n",
    "    (\"P002\", \"Mobile\", \"Electronics\"),\n",
    "    (\"P003\", \"Book\", \"Stationery\"),\n",
    "    (\"P004\", \"Headphones\", \"Accessories\")\n",
    "]\n",
    "products_df = spark.createDataFrame(products, [\"product_id\",\"product_name\",\"category\"])"
   ]
  },
  {
   "cell_type": "code",
   "execution_count": 0,
   "metadata": {
    "application/vnd.databricks.v1+cell": {
     "cellMetadata": {
      "byteLimit": 2048000,
      "rowLimit": 10000
     },
     "inputWidgets": {},
     "nuid": "9a06d4fa-a8ff-48a9-b060-ab38b5b90cd0",
     "showTitle": false,
     "tableResultSettingsMap": {},
     "title": ""
    }
   },
   "outputs": [],
   "source": [
    "\n",
    "bronze_path = \"/mnt/retail360/bronze/\"\n",
    "\n",
    "customers_df.write.format(\"delta\").mode(\"overwrite\").save(bronze_path + \"customers\")\n",
    "orders_day1_df.write.format(\"delta\").mode(\"overwrite\").save(bronze_path + \"orders\")\n",
    "products_df.write.format(\"delta\").mode(\"overwrite\").save(bronze_path + \"products\")"
   ]
  },
  {
   "cell_type": "code",
   "execution_count": 0,
   "metadata": {
    "application/vnd.databricks.v1+cell": {
     "cellMetadata": {
      "byteLimit": 2048000,
      "rowLimit": 10000
     },
     "inputWidgets": {},
     "nuid": "b9861367-aaf0-491d-a3bd-6cd51507552e",
     "showTitle": false,
     "tableResultSettingsMap": {},
     "title": ""
    }
   },
   "outputs": [],
   "source": [
    "# Load from Bronze\n",
    "bronze_customers = spark.read.format(\"delta\").load(bronze_path + \"customers\")\n",
    "bronze_orders = spark.read.format(\"delta\").load(bronze_path + \"orders\")\n",
    "bronze_products = spark.read.format(\"delta\").load(bronze_path + \"products\")"
   ]
  },
  {
   "cell_type": "code",
   "execution_count": 0,
   "metadata": {
    "application/vnd.databricks.v1+cell": {
     "cellMetadata": {
      "byteLimit": 2048000,
      "rowLimit": 10000
     },
     "inputWidgets": {},
     "nuid": "d5795ef7-21fe-455c-826e-b21759eda518",
     "showTitle": false,
     "tableResultSettingsMap": {},
     "title": ""
    }
   },
   "outputs": [],
   "source": [
    "clean_orders = bronze_orders.filter((col(\"status\") == \"Completed\") & (col(\"price\").isNotNull()))"
   ]
  },
  {
   "cell_type": "code",
   "execution_count": 0,
   "metadata": {
    "application/vnd.databricks.v1+cell": {
     "cellMetadata": {
      "byteLimit": 2048000,
      "rowLimit": 10000
     },
     "inputWidgets": {},
     "nuid": "2a2623f8-16db-4147-a2e6-a2acaf735d2a",
     "showTitle": false,
     "tableResultSettingsMap": {},
     "title": ""
    }
   },
   "outputs": [],
   "source": [
    "clean_orders = clean_orders.withColumn(\"total_amount\", col(\"quantity\") * col(\"price\"))"
   ]
  },
  {
   "cell_type": "code",
   "execution_count": 0,
   "metadata": {
    "application/vnd.databricks.v1+cell": {
     "cellMetadata": {
      "byteLimit": 2048000,
      "rowLimit": 10000
     },
     "inputWidgets": {},
     "nuid": "fad07411-2566-4e5a-bd98-96df08bf18c0",
     "showTitle": false,
     "tableResultSettingsMap": {},
     "title": ""
    }
   },
   "outputs": [],
   "source": [
    "silver_orders = (\n",
    "    clean_orders.join(bronze_customers, \"customer_id\", \"inner\")\n",
    "    .join(bronze_products, clean_orders.product == bronze_products.product_name, \"inner\")\n",
    "    .select(\"order_id\",\"name\",\"region\",\"product_name\",\"category\",\"quantity\",\"price\",\"total_amount\",\"order_date\")\n",
    ")\n",
    "\n",
    "silver_path = \"/mnt/retail360/silver/\"\n",
    "silver_orders.write.format(\"delta\").mode(\"overwrite\").save(silver_path + \"orders\")\n"
   ]
  },
  {
   "cell_type": "code",
   "execution_count": 0,
   "metadata": {
    "application/vnd.databricks.v1+cell": {
     "cellMetadata": {
      "byteLimit": 2048000,
      "rowLimit": 10000
     },
     "inputWidgets": {},
     "nuid": "5c9612b5-3b43-4d0b-9075-fb6f6c3c22f3",
     "showTitle": false,
     "tableResultSettingsMap": {},
     "title": ""
    }
   },
   "outputs": [],
   "source": [
    "silver_orders_df = spark.read.format(\"delta\").load(silver_path + \"orders\")"
   ]
  },
  {
   "cell_type": "code",
   "execution_count": 0,
   "metadata": {
    "application/vnd.databricks.v1+cell": {
     "cellMetadata": {
      "byteLimit": 2048000,
      "rowLimit": 10000
     },
     "inputWidgets": {},
     "nuid": "5bf96a35-3ead-4078-a349-f6a394a3e3ca",
     "showTitle": false,
     "tableResultSettingsMap": {},
     "title": ""
    }
   },
   "outputs": [],
   "source": [
    "\n",
    "# Total revenue by region\n",
    "revenue_by_region = silver_orders_df.groupBy(\"region\").agg(_sum(\"total_amount\").alias(\"total_revenue\"))"
   ]
  },
  {
   "cell_type": "code",
   "execution_count": 0,
   "metadata": {
    "application/vnd.databricks.v1+cell": {
     "cellMetadata": {
      "byteLimit": 2048000,
      "rowLimit": 10000
     },
     "inputWidgets": {},
     "nuid": "915e6518-9d06-446e-9e54-79b62a71db22",
     "showTitle": false,
     "tableResultSettingsMap": {},
     "title": ""
    }
   },
   "outputs": [
    {
     "output_type": "display_data",
     "data": {
      "text/html": [
       "<style scoped>\n",
       "  .table-result-container {\n",
       "    max-height: 300px;\n",
       "    overflow: auto;\n",
       "  }\n",
       "  table, th, td {\n",
       "    border: 1px solid black;\n",
       "    border-collapse: collapse;\n",
       "  }\n",
       "  th, td {\n",
       "    padding: 5px;\n",
       "  }\n",
       "  th {\n",
       "    text-align: left;\n",
       "  }\n",
       "</style><div class='table-result-container'><table class='table-result'><thead style='background-color: white'><tr><th>order_id</th><th>name</th><th>region</th><th>product_name</th><th>category</th><th>quantity</th><th>price</th><th>total_amount</th><th>order_date</th><th>rank</th></tr></thead><tbody><tr><td>1004</td><td>Arjun Rao</td><td>North</td><td>Headphones</td><td>Accessories</td><td>5</td><td>3000</td><td>15000</td><td>2024-01-17</td><td>1</td></tr><tr><td>1001</td><td>Arjun Rao</td><td>North</td><td>Laptop</td><td>Electronics</td><td>2</td><td>55000</td><td>110000</td><td>2024-01-15</td><td>1</td></tr><tr><td>1002</td><td>Sneha Patel</td><td>South</td><td>Mobile</td><td>Electronics</td><td>3</td><td>25000</td><td>75000</td><td>2024-01-16</td><td>2</td></tr><tr><td>1005</td><td>Sneha Patel</td><td>South</td><td>Laptop</td><td>Electronics</td><td>1</td><td>55000</td><td>55000</td><td>2024-01-18</td><td>3</td></tr><tr><td>1006</td><td>Rahul Sharma</td><td>East</td><td>Book</td><td>Stationery</td><td>5</td><td>700</td><td>3500</td><td>2024-01-19</td><td>1</td></tr></tbody></table></div>"
      ]
     },
     "metadata": {
      "application/vnd.databricks.v1+output": {
       "addedWidgets": {},
       "aggData": [],
       "aggError": "",
       "aggOverflow": false,
       "aggSchema": [],
       "aggSeriesLimitReached": false,
       "aggType": "",
       "arguments": {},
       "columnCustomDisplayInfos": {},
       "data": [
        [
         1004,
         "Arjun Rao",
         "North",
         "Headphones",
         "Accessories",
         5,
         3000,
         15000,
         "2024-01-17",
         1
        ],
        [
         1001,
         "Arjun Rao",
         "North",
         "Laptop",
         "Electronics",
         2,
         55000,
         110000,
         "2024-01-15",
         1
        ],
        [
         1002,
         "Sneha Patel",
         "South",
         "Mobile",
         "Electronics",
         3,
         25000,
         75000,
         "2024-01-16",
         2
        ],
        [
         1005,
         "Sneha Patel",
         "South",
         "Laptop",
         "Electronics",
         1,
         55000,
         55000,
         "2024-01-18",
         3
        ],
        [
         1006,
         "Rahul Sharma",
         "East",
         "Book",
         "Stationery",
         5,
         700,
         3500,
         "2024-01-19",
         1
        ]
       ],
       "datasetInfos": [],
       "dbfsResultPath": null,
       "isJsonSchema": true,
       "metadata": {},
       "overflow": false,
       "plotOptions": {
        "customPlotOptions": {},
        "displayType": "table",
        "pivotAggregation": null,
        "pivotColumns": null,
        "xColumns": null,
        "yColumns": null
       },
       "removedWidgets": [],
       "schema": [
        {
         "metadata": "{}",
         "name": "order_id",
         "type": "\"long\""
        },
        {
         "metadata": "{}",
         "name": "name",
         "type": "\"string\""
        },
        {
         "metadata": "{}",
         "name": "region",
         "type": "\"string\""
        },
        {
         "metadata": "{}",
         "name": "product_name",
         "type": "\"string\""
        },
        {
         "metadata": "{}",
         "name": "category",
         "type": "\"string\""
        },
        {
         "metadata": "{}",
         "name": "quantity",
         "type": "\"long\""
        },
        {
         "metadata": "{}",
         "name": "price",
         "type": "\"long\""
        },
        {
         "metadata": "{}",
         "name": "total_amount",
         "type": "\"long\""
        },
        {
         "metadata": "{}",
         "name": "order_date",
         "type": "\"string\""
        },
        {
         "metadata": "{}",
         "name": "rank",
         "type": "\"integer\""
        }
       ],
       "type": "table"
      }
     },
     "output_type": "display_data"
    }
   ],
   "source": [
    "from pyspark.sql.window import Window\n",
    "from pyspark.sql.functions import rank, desc\n",
    "\n",
    "# Assuming your cleaned Silver layer DataFrame is called silver_orders_df\n",
    "windowSpec = Window.partitionBy(\"category\").orderBy(desc(\"total_amount\"))\n",
    "\n",
    "top_products = silver_orders_df.withColumn(\"rank\", rank().over(windowSpec))\n",
    "\n",
    "display(top_products)\n"
   ]
  },
  {
   "cell_type": "code",
   "execution_count": 0,
   "metadata": {
    "application/vnd.databricks.v1+cell": {
     "cellMetadata": {
      "byteLimit": 2048000,
      "rowLimit": 10000
     },
     "inputWidgets": {},
     "nuid": "5351d6d4-1303-4362-9597-e264457a0cf1",
     "showTitle": false,
     "tableResultSettingsMap": {},
     "title": ""
    }
   },
   "outputs": [],
   "source": [
    "orders_day2 = [\n",
    "    (1005, 2, \"Laptop\", 1, 55000, \"Completed\", \"2024-01-18\"),\n",
    "    (1006, 3, \"Book\", 5, 700, \"Completed\", \"2024-01-19\")\n",
    "]\n",
    "orders_day2_df = spark.createDataFrame(orders_day2, [\"order_id\",\"customer_id\",\"product\",\"quantity\",\"price\",\"status\",\"order_date\"])\n"
   ]
  },
  {
   "cell_type": "code",
   "execution_count": 0,
   "metadata": {
    "application/vnd.databricks.v1+cell": {
     "cellMetadata": {
      "byteLimit": 2048000,
      "rowLimit": 10000
     },
     "inputWidgets": {},
     "nuid": "0c96aee9-719d-469c-8b32-61666b0a4956",
     "showTitle": false,
     "tableResultSettingsMap": {},
     "title": ""
    }
   },
   "outputs": [
    {
     "output_type": "execute_result",
     "data": {
      "text/plain": [
       "DataFrame[num_affected_rows: bigint, num_updated_rows: bigint, num_deleted_rows: bigint, num_inserted_rows: bigint]"
      ]
     },
     "execution_count": 44,
     "metadata": {},
     "output_type": "execute_result"
    }
   ],
   "source": [
    "# Write incremental into Bronze\n",
    "orders_day2_df.write.format(\"delta\").mode(\"append\").save(bronze_path + \"orders\")\n",
    "\n",
    "# MERGE into Silver (Upsert)\n",
    "from delta.tables import DeltaTable\n",
    "\n",
    "silver_table = DeltaTable.forPath(spark, silver_path + \"orders\")\n",
    "\n",
    "clean_day2 = orders_day2_df.filter(col(\"status\") == \"Completed\").withColumn(\"total_amount\", col(\"quantity\") * col(\"price\"))\n",
    "\n",
    "updated_df = (\n",
    "    clean_day2.join(bronze_customers, \"customer_id\", \"inner\")\n",
    "    .join(bronze_products, clean_day2.product == bronze_products.product_name, \"inner\")\n",
    "    .select(\"order_id\",\"name\",\"region\",\"product_name\",\"category\",\"quantity\",\"price\",\"total_amount\",\"order_date\")\n",
    ")\n",
    "\n",
    "silver_table.alias(\"tgt\").merge(\n",
    "    updated_df.alias(\"src\"),\n",
    "    \"tgt.order_id = src.order_id\"\n",
    ").whenMatchedUpdateAll().whenNotMatchedInsertAll().execute()\n"
   ]
  },
  {
   "cell_type": "code",
   "execution_count": 0,
   "metadata": {
    "application/vnd.databricks.v1+cell": {
     "cellMetadata": {
      "byteLimit": 2048000,
      "rowLimit": 10000
     },
     "inputWidgets": {},
     "nuid": "b490d8a2-4b17-4741-ad94-dca56007feb3",
     "showTitle": false,
     "tableResultSettingsMap": {},
     "title": ""
    }
   },
   "outputs": [
    {
     "output_type": "display_data",
     "data": {
      "text/html": [
       "<style scoped>\n",
       "  .table-result-container {\n",
       "    max-height: 300px;\n",
       "    overflow: auto;\n",
       "  }\n",
       "  table, th, td {\n",
       "    border: 1px solid black;\n",
       "    border-collapse: collapse;\n",
       "  }\n",
       "  th, td {\n",
       "    padding: 5px;\n",
       "  }\n",
       "  th {\n",
       "    text-align: left;\n",
       "  }\n",
       "</style><div class='table-result-container'><table class='table-result'><thead style='background-color: white'><tr><th>product_name</th><th>total_sales</th><th>rank</th></tr></thead><tbody><tr><td>Laptop</td><td>110000</td><td>1</td></tr><tr><td>Mobile</td><td>75000</td><td>2</td></tr><tr><td>Headphones</td><td>15000</td><td>3</td></tr></tbody></table></div>"
      ]
     },
     "metadata": {
      "application/vnd.databricks.v1+output": {
       "addedWidgets": {},
       "aggData": [],
       "aggError": "",
       "aggOverflow": false,
       "aggSchema": [],
       "aggSeriesLimitReached": false,
       "aggType": "",
       "arguments": {},
       "columnCustomDisplayInfos": {},
       "data": [
        [
         "Laptop",
         110000,
         1
        ],
        [
         "Mobile",
         75000,
         2
        ],
        [
         "Headphones",
         15000,
         3
        ]
       ],
       "datasetInfos": [],
       "dbfsResultPath": null,
       "isJsonSchema": true,
       "metadata": {},
       "overflow": false,
       "plotOptions": {
        "customPlotOptions": {},
        "displayType": "table",
        "pivotAggregation": null,
        "pivotColumns": null,
        "xColumns": null,
        "yColumns": null
       },
       "removedWidgets": [],
       "schema": [
        {
         "metadata": "{}",
         "name": "product_name",
         "type": "\"string\""
        },
        {
         "metadata": "{}",
         "name": "total_sales",
         "type": "\"long\""
        },
        {
         "metadata": "{}",
         "name": "rank",
         "type": "\"integer\""
        }
       ],
       "type": "table"
      }
     },
     "output_type": "display_data"
    },
    {
     "output_type": "display_data",
     "data": {
      "text/html": [
       "<style scoped>\n",
       "  .table-result-container {\n",
       "    max-height: 300px;\n",
       "    overflow: auto;\n",
       "  }\n",
       "  table, th, td {\n",
       "    border: 1px solid black;\n",
       "    border-collapse: collapse;\n",
       "  }\n",
       "  th, td {\n",
       "    padding: 5px;\n",
       "  }\n",
       "  th {\n",
       "    text-align: left;\n",
       "  }\n",
       "</style><div class='table-result-container'><table class='table-result'><thead style='background-color: white'><tr><th>product_name</th><th>total_sales</th><th>rank</th></tr></thead><tbody><tr><td>Laptop</td><td>110000</td><td>1</td></tr><tr><td>Mobile</td><td>75000</td><td>2</td></tr><tr><td>Headphones</td><td>15000</td><td>3</td></tr></tbody></table></div>"
      ]
     },
     "metadata": {
      "application/vnd.databricks.v1+output": {
       "addedWidgets": {},
       "aggData": [],
       "aggError": "",
       "aggOverflow": false,
       "aggSchema": [],
       "aggSeriesLimitReached": false,
       "aggType": "",
       "arguments": {},
       "columnCustomDisplayInfos": {},
       "data": [
        [
         "Laptop",
         110000,
         1
        ],
        [
         "Mobile",
         75000,
         2
        ],
        [
         "Headphones",
         15000,
         3
        ]
       ],
       "datasetInfos": [],
       "dbfsResultPath": null,
       "isJsonSchema": true,
       "metadata": {},
       "overflow": false,
       "plotOptions": {
        "customPlotOptions": {},
        "displayType": "table",
        "pivotAggregation": null,
        "pivotColumns": null,
        "xColumns": null,
        "yColumns": null
       },
       "removedWidgets": [],
       "schema": [
        {
         "metadata": "{}",
         "name": "product_name",
         "type": "\"string\""
        },
        {
         "metadata": "{}",
         "name": "total_sales",
         "type": "\"long\""
        },
        {
         "metadata": "{}",
         "name": "rank",
         "type": "\"integer\""
        }
       ],
       "type": "table"
      }
     },
     "output_type": "display_data"
    },
    {
     "output_type": "execute_result",
     "data": {
      "text/plain": [
       "DataFrame[path: string]"
      ]
     },
     "execution_count": 49,
     "metadata": {},
     "output_type": "execute_result"
    }
   ],
   "source": [
    "# Show historical version\n",
    "gold_df_v1 = spark.read.format(\"delta\").option(\"versionAsOf\", 0).load(\n",
    "    gold_path + \"top_products\"\n",
    ")\n",
    "display(gold_df_v1)\n",
    "\n",
    "# Rollback / Time Travel\n",
    "display(\n",
    "    spark.sql(f\"SELECT * FROM delta.`{gold_path}top_products` VERSION AS OF 0\")\n",
    ")\n",
    "\n",
    "# VACUUM safely\n",
    "spark.sql(f\"VACUUM delta.`{gold_path}top_products` RETAIN 168 HOURS\")  # 7 days retention\n"
   ]
  },
  {
   "cell_type": "code",
   "execution_count": 0,
   "metadata": {
    "application/vnd.databricks.v1+cell": {
     "cellMetadata": {
      "byteLimit": 2048000,
      "rowLimit": 10000
     },
     "inputWidgets": {},
     "nuid": "6bb4201f-ff99-409f-a8e2-c3cf0ee8b2f8",
     "showTitle": false,
     "tableResultSettingsMap": {},
     "title": ""
    }
   },
   "outputs": [
    {
     "output_type": "display_data",
     "data": {
      "text/html": [
       "<style scoped>\n",
       "  .table-result-container {\n",
       "    max-height: 300px;\n",
       "    overflow: auto;\n",
       "  }\n",
       "  table, th, td {\n",
       "    border: 1px solid black;\n",
       "    border-collapse: collapse;\n",
       "  }\n",
       "  th, td {\n",
       "    padding: 5px;\n",
       "  }\n",
       "  th {\n",
       "    text-align: left;\n",
       "  }\n",
       "</style><div class='table-result-container'><table class='table-result'><thead style='background-color: white'><tr><th>region</th><th>total_revenue</th></tr></thead><tbody><tr><td>North</td><td>125000</td></tr><tr><td>South</td><td>130000</td></tr><tr><td>East</td><td>3500</td></tr></tbody></table></div>"
      ]
     },
     "metadata": {
      "application/vnd.databricks.v1+output": {
       "addedWidgets": {},
       "aggData": [],
       "aggError": "",
       "aggOverflow": false,
       "aggSchema": [],
       "aggSeriesLimitReached": false,
       "aggType": "",
       "arguments": {},
       "columnCustomDisplayInfos": {},
       "data": [
        [
         "North",
         125000
        ],
        [
         "South",
         130000
        ],
        [
         "East",
         3500
        ]
       ],
       "datasetInfos": [],
       "dbfsResultPath": null,
       "isJsonSchema": true,
       "metadata": {},
       "overflow": false,
       "plotOptions": {
        "customPlotOptions": {},
        "displayType": "table",
        "pivotAggregation": null,
        "pivotColumns": null,
        "xColumns": null,
        "yColumns": null
       },
       "removedWidgets": [],
       "schema": [
        {
         "metadata": "{}",
         "name": "region",
         "type": "\"string\""
        },
        {
         "metadata": "{}",
         "name": "total_revenue",
         "type": "\"long\""
        }
       ],
       "type": "table"
      }
     },
     "output_type": "display_data"
    }
   ],
   "source": [
    "from pyspark.sql.functions import col, sum as _sum\n",
    "\n",
    "# Load bronze tables\n",
    "bronze_orders = spark.read.format(\"delta\").load(\"/mnt/retail360/bronze/orders\")\n",
    "bronze_customers = spark.read.format(\"delta\").load(\"/mnt/retail360/bronze/customers\")\n",
    "\n",
    "# Join orders with customers to get the region column\n",
    "orders_with_region = bronze_orders.join(\n",
    "    bronze_customers, on=\"customer_id\", how=\"inner\"\n",
    ")\n",
    "\n",
    "# Filter completed orders and compute total_amount\n",
    "silver_orders = orders_with_region.filter(col(\"status\") == \"Completed\") \\\n",
    "    .withColumn(\"total_amount\", col(\"quantity\") * col(\"price\"))\n",
    "\n",
    "# Aggregate revenue by region\n",
    "gold_sales_summary = silver_orders.groupBy(\"region\") \\\n",
    "    .agg(_sum(\"total_amount\").alias(\"total_revenue\"))\n",
    "\n",
    "display(gold_sales_summary)\n"
   ]
  },
  {
   "cell_type": "code",
   "execution_count": 0,
   "metadata": {
    "application/vnd.databricks.v1+cell": {
     "cellMetadata": {
      "byteLimit": 2048000,
      "rowLimit": 10000
     },
     "inputWidgets": {},
     "nuid": "486c5a6d-073f-4cce-83ec-21df046fac08",
     "showTitle": false,
     "tableResultSettingsMap": {},
     "title": ""
    }
   },
   "outputs": [
    {
     "output_type": "stream",
     "name": "stdout",
     "output_type": "stream",
     "text": [
      "✅ Retail360 Azure Databricks Pipeline Executed Successfully!\n"
     ]
    }
   ],
   "source": [
    "#Optimize and Z-Order for performance\n",
    "spark.sql(f\"OPTIMIZE delta.`{silver_path}orders` ZORDER BY (region, product_name)\")\n",
    "\n",
    "print(\"✅ Retail360 Azure Databricks Pipeline Executed Successfully!\")"
   ]
  }
 ],
 "metadata": {
  "application/vnd.databricks.v1+notebook": {
   "computePreferences": null,
   "dashboards": [],
   "environmentMetadata": {
    "base_environment": "",
    "environment_version": "4"
   },
   "inputWidgetPreferences": null,
   "language": "python",
   "notebookMetadata": {
    "pythonIndentUnit": 4
   },
   "notebookName": "Untitled Notebook 2025-10-13 11:53:44",
   "widgets": {}
  },
  "language_info": {
   "name": "python"
  }
 },
 "nbformat": 4,
 "nbformat_minor": 0
}